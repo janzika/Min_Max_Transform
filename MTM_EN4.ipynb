{
 "cells": [
  {
   "cell_type": "markdown",
   "metadata": {},
   "source": [
    "# <center>Minimum Transformation Method\n",
    "## <center>An inverse model for inferring surface fluxes and mixing from gridded hydrographic TS data, <br> by Taimoor Sohail and Jan D. Zika\n"
   ]
  },
  {
   "cell_type": "markdown",
   "metadata": {},
   "source": [
    "\n",
    "##### <center>We use an optimal transport method, minimzing a cost function which respects the volume and mass conservation, and the fundamental physics of mixing in TS space. <br>See also: Jan D Zika et al. (2021) [www.doi.org/10.1175/JCLI-D-20-0355.1 ] for a simpler version of this model which optimizes ocean circulation only.\n",
    "------------"
   ]
  },
  {
   "cell_type": "markdown",
   "metadata": {},
   "source": [
    "### __The code is laid out as follows:__\n",
    "#### A) Pre-processing\n",
    "i) Load necessary modules for computation \\\n",
    "ii) Define key parameters\n",
    "#### B) Load Data\n",
    "#### C) Define constraints\n",
    "i) Define Connectivity \\\n",
    "ii) Define weights\n",
    "#### D) Run optimisation\n",
    "#### E) Save Output\n",
    "---------"
   ]
  },
  {
   "cell_type": "markdown",
   "metadata": {},
   "source": [
    "## A) Pre-processing"
   ]
  },
  {
   "cell_type": "markdown",
   "metadata": {},
   "source": [
    "### i) Load necessary modules for computation"
   ]
  },
  {
   "cell_type": "code",
   "execution_count": 1,
   "metadata": {},
   "outputs": [],
   "source": [
    "## Module to run the minimisation\n",
    "from WM_Methods import MTM\n",
    "## Module to track runtime of cells and loops\n",
    "import time\n",
    "from tqdm.notebook import tqdm\n",
    "## Suppress warnings related to division by zero\n",
    "import warnings\n",
    "warnings.filterwarnings('ignore')\n",
    "## Module to load files and handle array computations\n",
    "import xarray as xr\n",
    "import numpy as np\n",
    "## Modules to plot outputs\n",
    "import matplotlib.pyplot as plt\n",
    "import matplotlib.patches as patches\n",
    "# Specify font properties for plots\n",
    "from matplotlib import rc\n",
    "font = {'family' : 'DejaVu Sans',\n",
    "        'weight' : 'normal',\n",
    "        'size'   : 16}\n",
    "\n",
    "rc('font', **font)"
   ]
  },
  {
   "cell_type": "markdown",
   "metadata": {},
   "source": [
    "### ii) Define key parameters"
   ]
  },
  {
   "cell_type": "code",
   "execution_count": 2,
   "metadata": {},
   "outputs": [],
   "source": [
    "# Thermal expansion, haline contraction and true scale factor\n",
    "alph = 1.7657*10**-4\n",
    "bet = 7.5544*10**-4\n",
    "\n",
    "volnorming = 10**15 #normalising coeffcients\n",
    "areanorming = 10**12 #normalising coeffcients\n",
    "ST_scale=bet/alph\n",
    "\n",
    "# Establish basic constants \n",
    "yr2sec = 365.25*24*60*60\n",
    "Cp=4000\n",
    "rho=1024\n",
    "S0=35\n",
    "\n",
    "# Range of years of which 'early' and 'late' are defined\n",
    "dyrs = 9\n",
    "init_early = 1970\n",
    "init_late = 2006\n",
    "Early_period = (np.array([init_early,init_early+dyrs]) - 1970)*12\n",
    "Late_period = (np.array([init_late,init_late+dyrs]) - 1970)*12"
   ]
  },
  {
   "cell_type": "markdown",
   "metadata": {},
   "source": [
    "-----------\n",
    "## B) Load Data\n"
   ]
  },
  {
   "cell_type": "markdown",
   "metadata": {},
   "source": [
    "\n",
    "The data is presented as monthly T-S observations from EN4, from January 1970 to December 2014. The observations have already been binned via Binary Space Partitioning according to a specific criterion. Folowing Sohail et al. (TBD) the BSP partitioning occurs in an xyxyxyx order, shown to minimize variability in the temperature and salinity signals. \n",
    "\n"
   ]
  },
  {
   "cell_type": "code",
   "execution_count": 3,
   "metadata": {},
   "outputs": [
    {
     "name": "stdout",
     "output_type": "stream",
     "text": [
      "CPU times: user 3.89 s, sys: 406 ms, total: 4.29 s\n",
      "Wall time: 7.77 s\n"
     ]
    }
   ],
   "source": [
    "%%time\n",
    "EN4_BSP_data = xr.open_mfdataset('BSP_processed/BSP_EN4_TS_*.nc')\n",
    "\n",
    "## Early Period\n",
    "Part_early = EN4_BSP_data.Partitions.isel(Time=slice(Early_period[0],Early_period[1])).mean('Time')\n",
    "SA_early =  EN4_BSP_data.S_mean.isel(Time=slice(Early_period[0],Early_period[1])).mean('Time')\n",
    "CT_early = EN4_BSP_data.T_mean.isel(Time=slice(Early_period[0],Early_period[1])).mean('Time')\n",
    "V_early = EN4_BSP_data.V_sum.isel(Time=slice(Early_period[0],Early_period[1])).mean('Time')\n",
    "A_early = EN4_BSP_data.A_sum.isel(Time=slice(Early_period[0],Early_period[1])).mean('Time')\n",
    "\n",
    "\n",
    "## Late Period\n",
    "Part_late = EN4_BSP_data.Partitions.isel(Time=slice(Late_period[0],Late_period[1])).mean('Time')\n",
    "SA_late =  EN4_BSP_data.S_mean.isel(Time=slice(Late_period[0],Late_period[1])).mean('Time')\n",
    "CT_late = EN4_BSP_data.T_mean.isel(Time=slice(Late_period[0],Late_period[1])).mean('Time')\n",
    "V_late = EN4_BSP_data.V_sum.isel(Time=slice(Late_period[0],Late_period[1])).mean('Time')\n",
    "A_late = EN4_BSP_data.A_sum.isel(Time=slice(Late_period[0],Late_period[1])).mean('Time')\n",
    "\n",
    "Basins = EN4_BSP_data.Basin.values"
   ]
  },
  {
   "cell_type": "code",
   "execution_count": 4,
   "metadata": {},
   "outputs": [],
   "source": [
    "\n",
    "# Flatten the early and late variables to a 1D array\n",
    "Vol_1 = V_early.values.flatten()\n",
    "Vol_2 = V_late.values.flatten()\n",
    "S_1 = SA_early.values.flatten()-S0 # Remove reference salinity S0\n",
    "S_2 = SA_late.values.flatten()-S0 # Remove reference salinity S0\n",
    "T_1 = CT_early.values.flatten()\n",
    "T_2 = CT_late.values.flatten()\n",
    "A_1 = A_early.values.flatten()\n",
    "A_2 = A_late.values.flatten()\n",
    "\n",
    "# Do the same for basin index\n",
    "Basin_1 = np.zeros_like(V_early)\n",
    "Basin_2 = np.zeros_like(V_early)\n",
    "Basin_names = []\n",
    "for i in range(np.array(Basins).size):\n",
    "    Basin_1[i,:] = i\n",
    "    Basin_2[i,:] = i\n",
    "    for j in range(V_early.shape[-1]):\n",
    "        #... and for basin name\n",
    "        Basin_names.append(Basins[i])\n",
    "\n",
    "Basin_1_inds = Basin_1.flatten()\n",
    "Basin_2_inds = Basin_2.flatten()\n",
    "\n",
    "#... and for the edges of the BSP bins\n",
    "## Here we calculate the mean TS edges averaged over both early and late times\n",
    "S_start = (0.5*(Part_early.values[:,:,0]+Part_late.values[:,:,0])).flatten()-S0 # Remove reference salinity S0\n",
    "S_end = (0.5*(Part_early.values[:,:,1]+Part_late.values[:,:,1])).flatten()-S0 # Remove reference salinity S0\n",
    "T_start = (0.5*(Part_early.values[:,:,2]+Part_late.values[:,:,2])).flatten()\n",
    "T_end = (0.5*(Part_early.values[:,:,3]+Part_late.values[:,:,3])).flatten()\n",
    "\n",
    "# Any NaNs are zeroed out\n",
    "S_1[np.isnan(S_1)] = 0\n",
    "S_2[np.isnan(S_2)] = 0\n",
    "T_1[np.isnan(T_1)] = 0\n",
    "T_2[np.isnan(T_2)] = 0"
   ]
  },
  {
   "cell_type": "code",
   "execution_count": 5,
   "metadata": {},
   "outputs": [],
   "source": [
    "## Here, we create the tracers and volumes matrices, which will be fed into the MTM function\n",
    "\n",
    "volumes = np.stack((Vol_1, Vol_2), axis=0)/volnorming # Shape: [2 x N]\n",
    "\n",
    "salinities = np.stack((S_1, S_2), axis=0)\n",
    "temps = np.stack((T_1, T_2), axis=0)\n",
    "\n",
    "tracers = np.stack((salinities, temps),axis=1) # Shape: [2 x M x N], where M = 2 for just T and S, and M>2 for T,S+other tracers"
   ]
  },
  {
   "cell_type": "code",
   "execution_count": 6,
   "metadata": {},
   "outputs": [
    {
     "name": "stdout",
     "output_type": "stream",
     "text": [
      "Total number of bins = 1152\n"
     ]
    }
   ],
   "source": [
    "print('Total number of bins =', int(Vol_1.shape[0]))\n",
    "N = int(Vol_1.shape[0])"
   ]
  },
  {
   "cell_type": "markdown",
   "metadata": {},
   "source": [
    "---------------\n",
    "## C) Define Constraints"
   ]
  },
  {
   "cell_type": "markdown",
   "metadata": {},
   "source": [
    "### i) Define Connectivity"
   ]
  },
  {
   "cell_type": "markdown",
   "metadata": {},
   "source": [
    "We must define whether a BSP bin is allowed to transport volume to another BSP bin. In the simplest case, all bins are allowed to transport to one another - but this yields nonphysical transport across vast distances and TS bounds.\n",
    "To improve on this, two connectivity constraints are used: \n",
    "1) Are the basins adjacent? This is defined via the connectivity array, below\n",
    "2) If YES, do the BSP bins have overlapping (or the same) TS boundaries?\\\n",
    "If yes, the bins are connected. If no, they are not.\n"
   ]
  },
  {
   "cell_type": "code",
   "execution_count": 7,
   "metadata": {},
   "outputs": [],
   "source": [
    "# Array defining the connection between the 9 basins;\n",
    "# 1 = connected, 0 = disconnected\n",
    "connectivity_array = np.zeros((Basins.size,Basins.size))\n",
    "\n",
    "connectivity_array[0,:] = [1, 1, 0, 0, 0, 0, 0, 0, 0]\n",
    "connectivity_array[1,:] = [1, 1, 1, 0, 0, 0, 0, 0, 0]\n",
    "connectivity_array[2,:] = [0, 1, 1, 1, 0, 0, 0, 0, 0]\n",
    "connectivity_array[3,:] = [0, 0, 1, 1, 0, 0, 0, 0, 1]\n",
    "connectivity_array[4,:] = [0, 0, 0, 0, 1, 0, 1, 0, 1]\n",
    "connectivity_array[5,:] = [0, 0, 0, 0, 0, 1, 1, 0, 1]\n",
    "connectivity_array[6,:] = [0, 0, 0, 0, 1, 1, 1, 1, 0]\n",
    "connectivity_array[7,:] = [0, 0, 0, 0, 0, 0, 1, 1, 0]\n",
    "connectivity_array[8,:] = [0, 0, 0, 1, 1, 1, 0, 0, 1]"
   ]
  },
  {
   "cell_type": "code",
   "execution_count": 8,
   "metadata": {},
   "outputs": [
    {
     "data": {
      "application/vnd.jupyter.widget-view+json": {
       "model_id": "dc87ceef4614430da0caeda4e00cefc4",
       "version_major": 2,
       "version_minor": 0
      },
      "text/plain": [
       "  0%|          | 0/1152 [00:00<?, ?it/s]"
      ]
     },
     "metadata": {},
     "output_type": "display_data"
    }
   ],
   "source": [
    "# Define whether a bin is connected to every other bin\n",
    "# The two constraints used are: are the basins adjacent? \n",
    "# If yes, are the bin indices the same? \n",
    "# If yes, the bins are connected; if no, they are not connected. \n",
    "connected = np.zeros((Vol_1.size, Vol_1.size))\n",
    "\n",
    "for i in tqdm(range(Vol_1.size)):\n",
    "    for j in range(Vol_2.size):\n",
    "        if connectivity_array[int(Basin_1_inds[i]), int(Basin_2_inds[j])]==1:\n",
    "            if Basin_names[i] == Basin_names[j]:\n",
    "                connected[i,j] = 1\n",
    "            elif S_start[i]==S_start[j] and T_start[i]==T_start[j]:\n",
    "                connected[i,j] = 1\n",
    "\n",
    "constraints = connected # Shape: An [N x N] matrix"
   ]
  },
  {
   "cell_type": "markdown",
   "metadata": {},
   "source": [
    "### ii) Define Weights"
   ]
  },
  {
   "cell_type": "code",
   "execution_count": 87,
   "metadata": {},
   "outputs": [],
   "source": [
    "## We create a weight matrix\n",
    "# Note that the code is very sensitive to the weights we input, and may break (TO BE DEVELOPED)\n",
    "offset = 10**12 # To prevent divide by zero errors\n",
    "# Mask where 1/A = inf\n",
    "area_weight = np.ones_like(A_2)*100 #areanorming/A_2\n",
    "area_weight[~np.isfinite(area_weight)] = volnorming\n",
    "weights = np.stack((ST_scale*area_weight,area_weight), axis=0) # Shape: An [M x N] matrix\n",
    "# weights = np.ones_like(weights)"
   ]
  },
  {
   "cell_type": "code",
   "execution_count": null,
   "metadata": {},
   "outputs": [],
   "source": []
  },
  {
   "cell_type": "markdown",
   "metadata": {},
   "source": [
    "-----------------\n",
    "## D) Run Optimisation"
   ]
  },
  {
   "cell_type": "code",
   "execution_count": 88,
   "metadata": {},
   "outputs": [
    {
     "name": "stdout",
     "output_type": "stream",
     "text": [
      "===============================================================================\n",
      "                                     CVXPY                                     \n",
      "                                    v1.1.13                                    \n",
      "===============================================================================\n",
      "(CVXPY) May 11 06:34:40 PM: Your problem has 149760 variables, 2 constraints, and 0 parameters.\n",
      "(CVXPY) May 11 06:34:42 PM: It is compliant with the following grammars: DCP, DQCP\n",
      "(CVXPY) May 11 06:34:42 PM: (If you need to solve this problem multiple times, but with different data, consider using parameters.)\n",
      "(CVXPY) May 11 06:34:42 PM: CVXPY will first compile your problem; then, it will invoke a numerical solver to obtain a solution.\n",
      "-------------------------------------------------------------------------------\n",
      "                                  Compilation                                  \n",
      "-------------------------------------------------------------------------------\n",
      "(CVXPY) May 11 06:34:42 PM: Compiling problem (target solver=MOSEK).\n",
      "(CVXPY) May 11 06:34:42 PM: Reduction chain: Dcp2Cone -> CvxAttr2Constr -> ConeMatrixStuffing -> MOSEK\n",
      "(CVXPY) May 11 06:34:42 PM: Applying reduction Dcp2Cone\n",
      "(CVXPY) May 11 06:34:42 PM: Applying reduction CvxAttr2Constr\n",
      "(CVXPY) May 11 06:34:42 PM: Applying reduction ConeMatrixStuffing\n",
      "(CVXPY) May 11 06:35:12 PM: Applying reduction MOSEK\n",
      "(CVXPY) May 11 06:35:12 PM: Finished problem compilation (took 3.024e+01 seconds).\n",
      "-------------------------------------------------------------------------------\n",
      "                                Numerical solver                               \n",
      "-------------------------------------------------------------------------------\n",
      "(CVXPY) May 11 06:35:12 PM: Invoking solver MOSEK  to obtain a solution.\n",
      "\n",
      "\n",
      "Problem\n",
      "  Name                   :                 \n",
      "  Objective sense        : max             \n",
      "  Type                   : CONIC (conic optimization problem)\n",
      "  Constraints            : 149761          \n",
      "  Cones                  : 1               \n",
      "  Scalar variables       : 154370          \n",
      "  Matrix variables       : 0               \n",
      "  Integer variables      : 0               \n",
      "\n",
      "Optimizer started.\n",
      "Problem\n",
      "  Name                   :                 \n",
      "  Objective sense        : max             \n",
      "  Type                   : CONIC (conic optimization problem)\n",
      "  Constraints            : 149761          \n",
      "  Cones                  : 1               \n",
      "  Scalar variables       : 154370          \n",
      "  Matrix variables       : 0               \n",
      "  Integer variables      : 0               \n",
      "\n",
      "Optimizer  - threads                : 12              \n",
      "Optimizer  - solved problem         : the dual        \n",
      "Optimizer  - Constraints            : 4130\n",
      "Optimizer  - Cones                  : 1\n",
      "Optimizer  - Scalar variables       : 125088            conic                  : 2058            \n",
      "Optimizer  - Semi-definite variables: 0                 scalarized             : 0               \n",
      "Factor     - setup time             : 0.19              dense det. time        : 0.00            \n",
      "Factor     - ML order time          : 0.08              GP order time          : 0.00            \n",
      "Factor     - nonzeros before factor : 3.78e+05          after factor           : 6.36e+05        \n",
      "Factor     - dense dim.             : 2                 flops                  : 1.21e+08        \n",
      "ITE PFEAS    DFEAS    GFEAS    PRSTATUS   POBJ              DOBJ              MU       TIME  \n",
      "0   0.0e+00  1.4e+02  2.0e+00  0.00e+00   -1.000000000e+00  0.000000000e+00   1.0e+00  0.62  \n",
      "1   1.1e-11  5.8e+01  1.2e+00  -9.62e-01  3.346867046e+01   3.306845561e+01   4.1e-01  0.76  \n",
      "2   1.3e-11  4.7e+01  1.1e+00  -8.37e-01  1.567177909e+02   1.559405180e+02   3.3e-01  0.84  \n",
      "3   6.1e-10  1.9e+01  6.9e-01  -9.41e-01  1.515788649e+02   1.465862659e+02   1.3e-01  0.93  \n",
      "4   5.8e-10  1.7e+01  5.7e-01  -7.04e-01  1.025856689e+03   1.021400347e+03   1.1e-01  1.02  \n",
      "5   4.0e-10  1.2e+01  4.2e-01  -6.15e-01  2.127072828e+03   2.121804233e+03   8.1e-02  1.11  \n",
      "6   4.7e-10  4.3e+00  1.6e-01  -4.55e-01  7.577284880e+03   7.570791853e+03   3.0e-02  1.23  \n",
      "7   4.2e-10  3.1e+00  9.3e-02  4.41e-01   1.083476451e+04   1.083064833e+04   2.1e-02  1.46  \n",
      "8   3.6e-09  2.6e+00  7.0e-02  1.01e+00   1.245218906e+04   1.244914851e+04   1.8e-02  1.62  \n",
      "9   3.7e-09  2.6e+00  6.9e-02  1.28e+00   1.250297436e+04   1.249996391e+04   1.8e-02  1.80  \n",
      "10  1.4e-09  1.9e+00  3.5e-02  1.28e+00   1.527512571e+04   1.527375250e+04   1.3e-02  1.87  \n",
      "11  2.3e-09  1.9e+00  3.4e-02  1.88e+00   1.536272008e+04   1.536138286e+04   1.3e-02  2.11  \n",
      "12  1.9e-09  1.6e+00  2.4e-02  1.90e+00   1.655389374e+04   1.655304147e+04   1.1e-02  2.20  \n",
      "13  2.7e-09  1.6e+00  2.3e-02  2.09e+00   1.656816305e+04   1.656731562e+04   1.1e-02  2.41  \n",
      "14  1.1e-09  1.6e+00  2.2e-02  2.09e+00   1.678632941e+04   1.678555583e+04   1.1e-02  2.54  \n",
      "15  3.0e-09  1.5e+00  1.9e-02  2.11e+00   1.718733595e+04   1.718669457e+04   1.0e-02  2.70  \n",
      "16  9.9e-10  1.5e+00  1.8e-02  2.14e+00   1.728558237e+04   1.728497163e+04   1.0e-02  2.89  \n",
      "17  3.1e-09  1.4e+00  1.8e-02  2.15e+00   1.731084085e+04   1.731023787e+04   1.0e-02  3.08  \n",
      "18  6.6e-10  1.4e+00  1.7e-02  2.15e+00   1.736137461e+04   1.736078712e+04   1.0e-02  3.24  \n",
      "19  3.7e-09  1.2e+00  1.2e-02  2.15e+00   1.804753624e+04   1.804715748e+04   8.4e-03  3.37  \n",
      "20  7.8e-10  1.2e+00  1.2e-02  2.14e+00   1.807282129e+04   1.807244920e+04   8.4e-03  3.53  \n",
      "21  3.4e-09  1.1e+00  1.0e-02  2.13e+00   1.826458544e+04   1.826426367e+04   7.9e-03  3.65  \n",
      "22  4.4e-09  1.1e+00  1.0e-02  2.10e+00   1.826837355e+04   1.826805275e+04   7.8e-03  3.82  \n",
      "23  1.4e-09  1.1e+00  9.8e-03  2.10e+00   1.832796718e+04   1.832766150e+04   7.7e-03  3.98  \n",
      "24  1.7e-09  7.2e-01  4.2e-03  2.08e+00   1.901581636e+04   1.901568330e+04   5.0e-03  4.13  \n",
      "25  1.6e-07  6.4e-01  3.5e-03  1.73e+00   1.910727190e+04   1.910715584e+04   4.5e-03  4.27  \n",
      "26  1.5e-07  5.7e-01  2.9e-03  1.56e+00   1.917856228e+04   1.917845824e+04   3.9e-03  4.45  \n",
      "27  1.3e-07  5.1e-01  2.5e-03  1.36e+00   1.922476926e+04   1.922467148e+04   3.5e-03  4.62  \n",
      "28  1.2e-07  4.8e-01  2.4e-03  1.18e+00   1.924414570e+04   1.924404969e+04   3.3e-03  4.80  \n",
      "29  9.5e-08  3.6e-01  1.7e-03  1.07e+00   1.931256553e+04   1.931247319e+04   2.5e-03  4.99  \n",
      "30  7.2e-08  2.7e-01  1.4e-03  5.95e-01   1.933302703e+04   1.933292091e+04   1.9e-03  5.15  \n",
      "31  1.9e-07  2.7e-01  1.3e-03  1.83e-01   1.933404912e+04   1.933394089e+04   1.9e-03  5.30  \n",
      "32  2.7e-07  2.5e-01  1.3e-03  1.47e-01   1.933611296e+04   1.933600016e+04   1.7e-03  5.45  \n",
      "33  3.1e-07  2.5e-01  1.3e-03  7.71e-02   1.933635640e+04   1.933624299e+04   1.7e-03  5.63  \n",
      "34  4.3e-07  1.3e-01  8.3e-04  6.85e-02   1.936532053e+04   1.936513377e+04   9.0e-04  5.70  \n",
      "35  1.2e-07  1.0e-01  7.1e-04  -4.68e-01  1.937800439e+04   1.937777583e+04   7.0e-04  5.83  \n",
      "36  2.4e-07  7.9e-02  6.1e-04  -5.91e-01  1.939522986e+04   1.939494389e+04   5.5e-04  5.99  \n",
      "37  2.5e-07  6.2e-03  1.5e-04  -6.87e-01  2.022551970e+04   2.022242733e+04   4.3e-05  6.15  \n",
      "38  4.7e-08  1.2e-03  6.6e-05  -9.67e-01  2.399646840e+04   2.398175082e+04   8.6e-06  6.25  \n",
      "39  1.1e-08  3.0e-04  2.7e-05  -9.48e-01  3.622125644e+04   3.618015932e+04   2.1e-06  6.31  \n",
      "40  5.3e-09  1.4e-04  1.6e-05  -8.96e-01  6.450506179e+04   6.443368628e+04   9.7e-07  6.38  \n",
      "41  1.4e-09  4.7e-05  7.7e-06  -7.95e-01  2.006365173e+05   2.005010837e+05   3.3e-07  6.45  \n",
      "42  1.0e-09  3.4e-05  5.9e-06  -6.32e-01  2.917632923e+05   2.916028654e+05   2.3e-07  6.62  \n",
      "43  8.4e-10  2.8e-05  4.9e-06  -4.22e-01  4.089303057e+05   4.087716401e+05   2.0e-07  6.78  \n",
      "44  4.5e-09  1.2e-05  2.1e-06  -3.23e-01  1.022745249e+06   1.022595972e+06   8.5e-08  6.86  \n",
      "45  2.6e-09  7.2e-06  1.1e-06  2.86e-02   1.615834007e+06   1.615716224e+06   5.0e-08  7.04  \n",
      "46  2.6e-09  7.2e-06  1.1e-06  3.78e-01   1.616149036e+06   1.616031271e+06   5.0e-08  7.26  \n",
      "47  6.1e-09  5.5e-06  7.5e-07  3.78e-01   1.963898924e+06   1.963801395e+06   3.8e-08  7.40  \n",
      "48  1.4e-08  3.8e-06  4.5e-07  4.95e-01   2.394008139e+06   2.393934393e+06   2.6e-08  7.46  \n",
      "49  9.3e-09  2.5e-06  2.6e-07  6.28e-01   2.806502179e+06   2.806448691e+06   1.8e-08  7.63  \n",
      "50  9.2e-09  2.5e-06  2.5e-07  7.15e-01   2.817526283e+06   2.817473242e+06   1.7e-08  7.80  \n",
      "51  8.6e-09  2.3e-06  2.3e-07  7.16e-01   2.873431278e+06   2.873380507e+06   1.6e-08  7.95  \n",
      "52  9.1e-08  1.8e-06  1.7e-07  7.27e-01   3.080210534e+06   3.080168319e+06   1.3e-08  8.02  \n",
      "53  7.7e-08  1.5e-06  1.3e-07  6.97e-01   3.211855043e+06   3.211816268e+06   1.1e-08  8.18  \n",
      "54  7.7e-08  1.5e-06  1.3e-07  6.65e-01   3.212833341e+06   3.212794592e+06   1.1e-08  8.38  \n",
      "55  7.7e-08  1.5e-06  1.3e-07  6.65e-01   3.212833341e+06   3.212794592e+06   1.1e-08  8.59  \n",
      "56  7.7e-08  1.5e-06  1.3e-07  6.65e-01   3.212833341e+06   3.212794592e+06   1.1e-08  8.81  \n",
      "Optimizer terminated. Time: 9.15    \n",
      "\n",
      "\n",
      "Interior-point solution summary\n",
      "  Problem status  : UNKNOWN\n",
      "  Solution status : UNKNOWN\n",
      "  Primal.  obj: 3.2128333407e+06    nrm: 8e+06    Viol.  con: 1e-09    var: 0e+00    cones: 0e+00  \n",
      "  Dual.    obj: 3.2127945924e+06    nrm: 3e+06    Viol.  con: 0e+00    var: 2e+01    cones: 0e+00  \n"
     ]
    },
    {
     "ename": "SolverError",
     "evalue": "Solver 'MOSEK' failed. Try another solver, or solve with verbose=True for more information.",
     "output_type": "error",
     "traceback": [
      "\u001b[0;31m---------------------------------------------------------------------------\u001b[0m",
      "\u001b[0;31mSolverError\u001b[0m                               Traceback (most recent call last)",
      "\u001b[0;32m<ipython-input-88-589cae3187af>\u001b[0m in \u001b[0;36m<module>\u001b[0;34m\u001b[0m\n\u001b[1;32m      1\u001b[0m \u001b[0;31m## We run the optimiser to get the transports between water masses and the T,S mixed and T,S adjustment\u001b[0m\u001b[0;34m\u001b[0m\u001b[0;34m\u001b[0m\u001b[0;34m\u001b[0m\u001b[0m\n\u001b[0;32m----> 2\u001b[0;31m \u001b[0mresult\u001b[0m \u001b[0;34m=\u001b[0m \u001b[0mMTM\u001b[0m\u001b[0;34m.\u001b[0m\u001b[0moptimise\u001b[0m\u001b[0;34m(\u001b[0m\u001b[0mtracers\u001b[0m\u001b[0;34m,\u001b[0m \u001b[0mvolumes\u001b[0m\u001b[0;34m,\u001b[0m \u001b[0mconstraints\u001b[0m\u001b[0;34m,\u001b[0m \u001b[0mweights\u001b[0m\u001b[0;34m)\u001b[0m\u001b[0;34m\u001b[0m\u001b[0;34m\u001b[0m\u001b[0m\n\u001b[0m\u001b[1;32m      3\u001b[0m \u001b[0;34m\u001b[0m\u001b[0m\n\u001b[1;32m      4\u001b[0m \u001b[0mg_ij\u001b[0m \u001b[0;34m=\u001b[0m \u001b[0mresult\u001b[0m\u001b[0;34m[\u001b[0m\u001b[0;34m'g_ij'\u001b[0m\u001b[0;34m]\u001b[0m \u001b[0;31m## An [N x N] matrix of transports between WMs\u001b[0m\u001b[0;34m\u001b[0m\u001b[0;34m\u001b[0m\u001b[0m\n\u001b[1;32m      5\u001b[0m \u001b[0mMixing\u001b[0m \u001b[0;34m=\u001b[0m \u001b[0mresult\u001b[0m\u001b[0;34m[\u001b[0m\u001b[0;34m'Mixing'\u001b[0m\u001b[0;34m]\u001b[0m \u001b[0;31m## An [M x N] matrix of dtracer mixing for each WM\u001b[0m\u001b[0;34m\u001b[0m\u001b[0;34m\u001b[0m\u001b[0m\n",
      "\u001b[0;32m~/Library/CloudStorage/OneDrive-UNSW/Desktop/Desktop - Taimoor’s UNSW MacBook Pro/UNSW Work/MIN_MIX_FINAL/WM_Methods/MTM.py\u001b[0m in \u001b[0;36moptimise\u001b[0;34m(tracers, volumes, cons_matrix, weights)\u001b[0m\n\u001b[1;32m     70\u001b[0m     \u001b[0;31m# The optimal objective value is returned by prob.solve()`.\u001b[0m\u001b[0;34m\u001b[0m\u001b[0;34m\u001b[0m\u001b[0;34m\u001b[0m\u001b[0m\n\u001b[1;32m     71\u001b[0m     \u001b[0;31m# OSQP, ECOS, ECOS_BB, MOSEK, CBC, CVXOPT, NAG, GUROBI, and SCS\u001b[0m\u001b[0;34m\u001b[0m\u001b[0;34m\u001b[0m\u001b[0;34m\u001b[0m\u001b[0m\n\u001b[0;32m---> 72\u001b[0;31m     \u001b[0mresult\u001b[0m \u001b[0;34m=\u001b[0m \u001b[0mprob\u001b[0m\u001b[0;34m.\u001b[0m\u001b[0msolve\u001b[0m\u001b[0;34m(\u001b[0m\u001b[0mverbose\u001b[0m\u001b[0;34m=\u001b[0m\u001b[0;32mTrue\u001b[0m\u001b[0;34m,\u001b[0m \u001b[0msolver\u001b[0m\u001b[0;34m=\u001b[0m\u001b[0mcp\u001b[0m\u001b[0;34m.\u001b[0m\u001b[0mMOSEK\u001b[0m\u001b[0;34m)\u001b[0m\u001b[0;34m\u001b[0m\u001b[0;34m\u001b[0m\u001b[0m\n\u001b[0m\u001b[1;32m     73\u001b[0m \u001b[0;34m\u001b[0m\u001b[0m\n\u001b[1;32m     74\u001b[0m     \u001b[0;32mif\u001b[0m \u001b[0mprob\u001b[0m\u001b[0;34m.\u001b[0m\u001b[0mstatus\u001b[0m \u001b[0;32mnot\u001b[0m \u001b[0;32min\u001b[0m \u001b[0;34m[\u001b[0m\u001b[0;34m\"infeasible\"\u001b[0m\u001b[0;34m,\u001b[0m \u001b[0;34m\"unbounded\"\u001b[0m\u001b[0;34m]\u001b[0m\u001b[0;34m:\u001b[0m\u001b[0;34m\u001b[0m\u001b[0;34m\u001b[0m\u001b[0m\n",
      "\u001b[0;32m~/opt/anaconda3/lib/python3.7/site-packages/cvxpy/problems/problem.py\u001b[0m in \u001b[0;36msolve\u001b[0;34m(self, *args, **kwargs)\u001b[0m\n\u001b[1;32m    460\u001b[0m         \u001b[0;32melse\u001b[0m\u001b[0;34m:\u001b[0m\u001b[0;34m\u001b[0m\u001b[0;34m\u001b[0m\u001b[0m\n\u001b[1;32m    461\u001b[0m             \u001b[0msolve_func\u001b[0m \u001b[0;34m=\u001b[0m \u001b[0mProblem\u001b[0m\u001b[0;34m.\u001b[0m\u001b[0m_solve\u001b[0m\u001b[0;34m\u001b[0m\u001b[0;34m\u001b[0m\u001b[0m\n\u001b[0;32m--> 462\u001b[0;31m         \u001b[0;32mreturn\u001b[0m \u001b[0msolve_func\u001b[0m\u001b[0;34m(\u001b[0m\u001b[0mself\u001b[0m\u001b[0;34m,\u001b[0m \u001b[0;34m*\u001b[0m\u001b[0margs\u001b[0m\u001b[0;34m,\u001b[0m \u001b[0;34m**\u001b[0m\u001b[0mkwargs\u001b[0m\u001b[0;34m)\u001b[0m\u001b[0;34m\u001b[0m\u001b[0;34m\u001b[0m\u001b[0m\n\u001b[0m\u001b[1;32m    463\u001b[0m \u001b[0;34m\u001b[0m\u001b[0m\n\u001b[1;32m    464\u001b[0m     \u001b[0;34m@\u001b[0m\u001b[0mclassmethod\u001b[0m\u001b[0;34m\u001b[0m\u001b[0;34m\u001b[0m\u001b[0m\n",
      "\u001b[0;32m~/opt/anaconda3/lib/python3.7/site-packages/cvxpy/problems/problem.py\u001b[0m in \u001b[0;36m_solve\u001b[0;34m(self, solver, warm_start, verbose, gp, qcp, requires_grad, enforce_dpp, **kwargs)\u001b[0m\n\u001b[1;32m    960\u001b[0m         \u001b[0mend\u001b[0m \u001b[0;34m=\u001b[0m \u001b[0mtime\u001b[0m\u001b[0;34m.\u001b[0m\u001b[0mtime\u001b[0m\u001b[0;34m(\u001b[0m\u001b[0;34m)\u001b[0m\u001b[0;34m\u001b[0m\u001b[0;34m\u001b[0m\u001b[0m\n\u001b[1;32m    961\u001b[0m         \u001b[0mself\u001b[0m\u001b[0;34m.\u001b[0m\u001b[0m_solve_time\u001b[0m \u001b[0;34m=\u001b[0m \u001b[0mend\u001b[0m \u001b[0;34m-\u001b[0m \u001b[0mstart\u001b[0m\u001b[0;34m\u001b[0m\u001b[0;34m\u001b[0m\u001b[0m\n\u001b[0;32m--> 962\u001b[0;31m         \u001b[0mself\u001b[0m\u001b[0;34m.\u001b[0m\u001b[0munpack_results\u001b[0m\u001b[0;34m(\u001b[0m\u001b[0msolution\u001b[0m\u001b[0;34m,\u001b[0m \u001b[0msolving_chain\u001b[0m\u001b[0;34m,\u001b[0m \u001b[0minverse_data\u001b[0m\u001b[0;34m)\u001b[0m\u001b[0;34m\u001b[0m\u001b[0;34m\u001b[0m\u001b[0m\n\u001b[0m\u001b[1;32m    963\u001b[0m         \u001b[0;32mif\u001b[0m \u001b[0mverbose\u001b[0m\u001b[0;34m:\u001b[0m\u001b[0;34m\u001b[0m\u001b[0;34m\u001b[0m\u001b[0m\n\u001b[1;32m    964\u001b[0m             \u001b[0mprint\u001b[0m\u001b[0;34m(\u001b[0m\u001b[0m_FOOTER\u001b[0m\u001b[0;34m)\u001b[0m\u001b[0;34m\u001b[0m\u001b[0;34m\u001b[0m\u001b[0m\n",
      "\u001b[0;32m~/opt/anaconda3/lib/python3.7/site-packages/cvxpy/problems/problem.py\u001b[0m in \u001b[0;36munpack_results\u001b[0;34m(self, solution, chain, inverse_data)\u001b[0m\n\u001b[1;32m   1284\u001b[0m             raise error.SolverError(\n\u001b[1;32m   1285\u001b[0m                     \u001b[0;34m\"Solver '%s' failed. \"\u001b[0m \u001b[0;34m%\u001b[0m \u001b[0mchain\u001b[0m\u001b[0;34m.\u001b[0m\u001b[0msolver\u001b[0m\u001b[0;34m.\u001b[0m\u001b[0mname\u001b[0m\u001b[0;34m(\u001b[0m\u001b[0;34m)\u001b[0m \u001b[0;34m+\u001b[0m\u001b[0;34m\u001b[0m\u001b[0;34m\u001b[0m\u001b[0m\n\u001b[0;32m-> 1286\u001b[0;31m                     \u001b[0;34m\"Try another solver, or solve with verbose=True for more \"\u001b[0m\u001b[0;34m\u001b[0m\u001b[0;34m\u001b[0m\u001b[0m\n\u001b[0m\u001b[1;32m   1287\u001b[0m                     \"information.\")\n\u001b[1;32m   1288\u001b[0m \u001b[0;34m\u001b[0m\u001b[0m\n",
      "\u001b[0;31mSolverError\u001b[0m: Solver 'MOSEK' failed. Try another solver, or solve with verbose=True for more information."
     ]
    }
   ],
   "source": [
    "## We run the optimiser to get the transports between water masses and the T,S mixed and T,S adjustment\n",
    "result = MTM.optimise(tracers, volumes, constraints, weights)\n",
    "\n",
    "g_ij = result['g_ij'] ## An [N x N] matrix of transports between WMs\n",
    "Mixing = result['Mixing'] ## An [M x N] matrix of dtracer mixing for each WM\n",
    "Adjustment = result['Adjustment'] ## An [M x N] matrix of dtracer adjustment for each WM"
   ]
  },
  {
   "cell_type": "code",
   "execution_count": null,
   "metadata": {},
   "outputs": [],
   "source": [
    "## Break down the Mixing and Adjustment matrices into their constituent tracers\n",
    "dT_mixing = Mixing[1,:]\n",
    "dS_mixing = Mixing[0,:]\n",
    "dS_adj = Adjustment[0,:]\n",
    "dT_adj = Adjustment[1,:]"
   ]
  },
  {
   "cell_type": "code",
   "execution_count": null,
   "metadata": {},
   "outputs": [
    {
     "data": {
      "text/plain": [
       "[<matplotlib.lines.Line2D at 0x7fc8f7dcc6d0>]"
      ]
     },
     "execution_count": 86,
     "metadata": {},
     "output_type": "execute_result"
    },
    {
     "data": {
      "image/png": "[encoded data removed]",
      "text/plain": [
       "<Figure size 432x288 with 1 Axes>"
      ]
     },
     "metadata": {
      "needs_background": "light"
     },
     "output_type": "display_data"
    }
   ],
   "source": [
    "plt.plot(dS_adj)"
   ]
  },
  {
   "cell_type": "markdown",
   "metadata": {},
   "source": [
    "----------\n",
    "## E) Save Output "
   ]
  },
  {
   "cell_type": "code",
   "execution_count": 33,
   "metadata": {},
   "outputs": [],
   "source": [
    "da_dT_mixing = xr.DataArray(data = dT_mixing, dims = [\"WM_number\"],\n",
    "                           coords=dict(WM_number = np.arange(0,N)),\n",
    "                        attrs=dict(description=\"Temperature Mixing\", units=\"\\Delta K\", variable_id=\"EN4 Tmix\"))\n",
    "da_dS_mixing = xr.DataArray(data = dS_mixing, dims = [\"WM_number\"],\n",
    "                           coords=dict(WM_number = np.arange(0,N)),\n",
    "                        attrs=dict(description=\"Salinity Mixing\", units=\"\\Delta g/kg\", variable_id=\"EN4 Smix\"))\n",
    "da_dT_adjustment = xr.DataArray(data = dT_adj, dims = [\"WM_number\"],\n",
    "                           coords=dict(WM_number = np.arange(0,N)),\n",
    "                        attrs=dict(description=\"Temperature Adjustment\", units=\"\\Delta K\", variable_id=\"EN4 Tadj\"))\n",
    "da_dS_adjustment = xr.DataArray(data = dS_adj, dims = [\"WM_number\"],\n",
    "                           coords=dict(WM_number = np.arange(0,N)),\n",
    "                        attrs=dict(description=\"Salinity Adjustment\", units=\"\\Delta g/kg\", variable_id=\"EN4 Sadj\"))\n",
    "da_gij = xr.DataArray(data = g_ij*volnorming, dims = [\"WM_initial\", \"WM_final\"],\n",
    "                           coords=dict(WM_initial = np.arange(0,N), WM_final = np.arange(0,N)),\n",
    "                        attrs=dict(description=\"Volume transport\", units=\"m^3\", variable_id=\"EN4 Gij\"))\n",
    "\n",
    "## Create xarray DataSet that will hold all these DataArrays\n",
    "ds_BSP = xr.Dataset()\n",
    "ds_BSP['dT_mixing'] = da_dT_mixing\n",
    "ds_BSP['dS_mixing'] = da_dS_mixing\n",
    "ds_BSP['dT_adjustment'] = da_dT_adjustment\n",
    "ds_BSP['dS_adjustment'] = da_dS_adjustment\n",
    "ds_BSP['gij'] = da_gij\n",
    "\n",
    "ds_BSP.to_netcdf('Optimal_result_EN4.nc', mode='w')"
   ]
  },
  {
   "cell_type": "code",
   "execution_count": null,
   "metadata": {},
   "outputs": [],
   "source": [
    "# Compute Eulerian change in temperature (just a simple difference)\n",
    "dT_eul=np.nanmean(CTlate-CTearly,axis=-1)\n",
    "# Compute depth integrated heat content (units: W/m^2)\n",
    "dH_mix = Cp*rho*np.nansum(dT_mix*vol,axis=-1)/(darea*dyrs*yr2sec)\n",
    "dH_eul = Cp*rho*np.nansum(dT_eul*vol,axis=-1)/(darea*dyrs*yr2sec)\n",
    "dH_adj = Cp*rho*np.nansum(dT_adj*vol,axis=-1)/(darea*dyrs*yr2sec)\n",
    "dH_eul[dH_eul==0]=np.nan\n",
    "dH_mix[dH_mix==0]=np.nan\n",
    "dH_adj[dH_adj==0]=np.nan\n",
    "dH_redist = dH_eul-dH_mix-dH_adj\n",
    "\n",
    "# Compare Mixing, Redistribution and Adjustment fresh water change\n",
    "# Compute Eulerian change in temperature (just a simple difference)\n",
    "dS_eul=np.nanmean(SAlate-SAearly,axis=-1)\n",
    "# Compute implied fresh water content change (units: mm/yr)\n",
    "dW_mix = (-1/S0)*np.nansum(dS_mix*vol,axis=-1)/(darea*dyrs)*1000\n",
    "dW_eul = (-1/S0)*np.nansum(dS_eul*vol,axis=-1)/(darea*dyrs)*1000\n",
    "dW_adj = (-1/S0)*np.nansum(dS_adj*vol,axis=-1)/(darea*dyrs)*1000\n",
    "dW_eul[dW_eul==0]=np.nan\n",
    "dW_mix[dW_mix==0]=np.nan\n",
    "dW_adj[dW_adj==0]=np.nan\n",
    "dW_redist = dW_eul - dW_mix - dW_adj"
   ]
  },
  {
   "cell_type": "code",
   "execution_count": null,
   "metadata": {},
   "outputs": [],
   "source": [
    "fig, axs = plt.subplots(2,3, figsize=(40*0.5,17.5*0.5), facecolor='w', edgecolor='k')\n",
    "fig.subplots_adjust(hspace = .15, wspace=0.15)\n",
    "axs = axs.ravel() \n",
    "cax1 = fig.add_axes([0.925, 0.55, 0.02, 0.34])\n",
    "cax2 = fig.add_axes([0.925, 0.12, 0.02, 0.34])\n",
    "\n",
    "axs[0].add_patch(patches.Rectangle((np.min(lon), np.min(lat)), lon.size, lat.size, color='black',zorder=0))\n",
    "axs[1].add_patch(patches.Rectangle((np.min(lon), np.min(lat)), lon.size, lat.size, color='black',zorder=0))\n",
    "axs[2].add_patch(patches.Rectangle((np.min(lon), np.min(lat)), lon.size, lat.size, color='black',zorder=0))\n",
    "axs[3].add_patch(patches.Rectangle((np.min(lon), np.min(lat)), lon.size, lat.size, color='black',zorder=0))\n",
    "axs[4].add_patch(patches.Rectangle((np.min(lon), np.min(lat)), lon.size, lat.size, color='black',zorder=0))\n",
    "axs[5].add_patch(patches.Rectangle((np.min(lon), np.min(lat)), lon.size, lat.size, color='black',zorder=0))\n",
    "\n",
    "axs[0].pcolormesh(lon,lat,np.moveaxis(dH_mix, -1,0), vmin=-150,vmax=150, zorder=1,  cmap='bwr')\n",
    "axs[1].pcolormesh(lon,lat,np.moveaxis(dH_redist, -1,0), vmin=-150, vmax=150, zorder=1, cmap='bwr')\n",
    "axs[2].pcolormesh(lon,lat,np.moveaxis(dH_adj, -1,0), vmin=-150, vmax=150, zorder=1, cmap='bwr')\n",
    "axs[3].pcolormesh(lon,lat,np.moveaxis(dW_mix, -1,0), vmin=-5000,vmax=5000, zorder=1,  cmap='bwr')\n",
    "axs[4].pcolormesh(lon,lat,np.moveaxis(dW_redist, -1,0), vmin=-5000, vmax=5000, zorder=1, cmap='bwr')\n",
    "axs[5].pcolormesh(lon,lat,np.moveaxis(dW_adj, -1,0), vmin=-5000, vmax=5000, zorder=1, cmap='bwr')\n",
    "\n",
    "axs[0].grid(True, zorder=2)\n",
    "axs[1].grid(True, zorder=2)\n",
    "axs[2].grid(True, zorder=2)\n",
    "axs[3].grid(True, zorder=2)\n",
    "axs[4].grid(True, zorder=2)\n",
    "axs[5].grid(True, zorder=2)\n",
    "\n",
    "axs[0].set_title('Mixing')\n",
    "axs[1].set_title('Adiabatic Redistribution')\n",
    "axs[2].set_title(r'Adjustment')\n",
    "\n",
    "axs[3].set_xlabel('Longitude')\n",
    "axs[4].set_xlabel('Longitude')\n",
    "axs[5].set_xlabel('Longitude')\n",
    "\n",
    "axs[0].set_ylabel('Latitude')\n",
    "axs[3].set_ylabel('Latitude')\n",
    "\n",
    "axs[0].set_xlim(np.min(lon), np.max(lon))\n",
    "axs[1].set_xlim(np.min(lon), np.max(lon))\n",
    "axs[2].set_xlim(np.min(lon), np.max(lon))\n",
    "axs[3].set_xlim(np.min(lon), np.max(lon))\n",
    "axs[4].set_xlim(np.min(lon), np.max(lon))\n",
    "axs[5].set_xlim(np.min(lon), np.max(lon))\n",
    "\n",
    "axs[0].set_ylim(np.min(lat), np.max(lat))\n",
    "axs[1].set_ylim(np.min(lat), np.max(lat))\n",
    "axs[2].set_ylim(np.min(lat), np.max(lat))\n",
    "axs[3].set_ylim(np.min(lat), np.max(lat))\n",
    "axs[4].set_ylim(np.min(lat), np.max(lat))\n",
    "axs[5].set_ylim(np.min(lat), np.max(lat))\n",
    "\n",
    "m = plt.cm.ScalarMappable(cmap='bwr')\n",
    "m.set_clim(-5,5)\n",
    "cbar2 = fig.colorbar(m, cax=cax2, orientation='vertical')\n",
    "cbar2.set_label('$m/yr$') \n",
    "\n",
    "m = plt.cm.ScalarMappable(cmap='bwr')\n",
    "m.set_clim(-150,150)\n",
    "cbar1 = fig.colorbar(m, cax=cax1, orientation='vertical')\n",
    "cbar1.set_label('$W/m^2$') \n",
    "\n",
    "plt.savefig('Minimisation_remapped_128_unmixing.png', dpi=300, bbox_inches='tight')\n",
    "plt.show()"
   ]
  },
  {
   "cell_type": "code",
   "execution_count": null,
   "metadata": {},
   "outputs": [],
   "source": [
    "fig, axs = plt.subplots(1,2, figsize=(30*0.5,10*0.5), facecolor='w', edgecolor='k')\n",
    "fig.subplots_adjust(hspace = .15, wspace=0.15)\n",
    "axs = axs.ravel() \n",
    "\n",
    "ind = np.arange(4)\n",
    "width=1/6\n",
    "axs[0].barh(ind+width/2*3, \\\n",
    "        [dH_mix_Atl_avg , dH_adj_Atl_avg , dH_redist_Atl_avg, dH_redist_Atl_avg+dH_mix_Atl_avg+dH_adj_Atl_avg], width, color='skyblue', label='Atlantic')\n",
    "axs[0].barh(ind+width/2, \\\n",
    "        [dH_mix_SO_avg, dH_adj_SO_avg,  dH_redist_SO_avg, dH_redist_SO_avg+dH_mix_SO_avg+dH_adj_SO_avg], width, color='orange', label='Southern')\n",
    "axs[0].barh(ind-width/2, \\\n",
    "        [dH_mix_Pac_avg, dH_adj_Pac_avg,  dH_redist_Pac_avg, dH_redist_Pac_avg+dH_mix_Pac_avg+dH_adj_Pac_avg], width, color='purple', label='Pacific')\n",
    "axs[0].barh(ind-3*width/2, \\\n",
    "        [dH_mix_Ind_avg,  dH_adj_Ind_avg, dH_redist_Ind_avg, \\\n",
    "         dH_redist_Ind_avg+dH_mix_Ind_avg+dH_adj_Ind_avg], width, color='black', label='Indian')\n",
    "\n",
    "axs[1].barh(ind+width/2*3, \\\n",
    "        [dW_mix_Atl_avg , dW_adj_Atl_avg , dW_redist_Atl_avg, dW_redist_Atl_avg+dW_mix_Atl_avg+dW_adj_Atl_avg], width, color='skyblue', label='Atlantic')\n",
    "axs[1].barh(ind+width/2, \\\n",
    "        [dW_mix_SO_avg, dW_adj_SO_avg,  dW_redist_SO_avg, dW_redist_SO_avg+dW_mix_SO_avg+dW_adj_SO_avg], width, color='orange', label='Southern')\n",
    "axs[1].barh(ind-width/2, \\\n",
    "        [dW_mix_Pac_avg, dW_adj_Pac_avg,  dW_redist_Pac_avg, dW_redist_Pac_avg+dW_mix_Pac_avg+dW_adj_Pac_avg], width, color='purple', label='Pacific')\n",
    "axs[1].barh(ind-3*width/2, \\\n",
    "        [dW_mix_Ind_avg,  dW_adj_Ind_avg, dW_redist_Ind_avg, \\\n",
    "         dW_redist_Ind_avg+dW_mix_Ind_avg+dW_adj_Ind_avg], width, color='black', label='Indian')\n",
    "\n",
    "\n",
    "axs[0].grid()\n",
    "# axs[0].set_ylabel('Basin', labelpad=25)\n",
    "axs[0].set_xlabel('Mean Heat Content Change [Wm$^{-2}$]')\n",
    "axs[0].set_yticks([0,1,2,3])\n",
    "axs[0].set_yticklabels(['Mixing', 'Adjustment', 'Redistribution', 'Total'])\n",
    "axs[0].set_ylim(ind[0]-width*2, ind[-1]+width*2)\n",
    "axs[0].legend(ncol=4, bbox_to_anchor=(1.05,-0.3), loc='center')\n",
    "# axs[0].set_xlim(-3.1,3.1)\n",
    "\n",
    "axs[1].grid()\n",
    "axs[1].set_xlabel('Mean Freshwater Change [myr$^{-1}$]')\n",
    "axs[1].set_yticks([0,1,2,3])\n",
    "axs[1].set_yticklabels(['','','',''])\n",
    "axs[1].set_ylim(ind[0]-width*2, ind[-1]+width*2)\n",
    "# axs[1].set_xlim(-0.08,0.08)\n",
    "\n",
    "plt.savefig('Minimisation_basin_bars_global.png', dpi=300, bbox_inches='tight')\n",
    "plt.show()"
   ]
  }
 ],
 "metadata": {
  "interpreter": {
   "hash": "aee8b7b246df8f9039afb4144a1f6fd8d2ca17a180786b69acc140d282b71a49"
  },
  "kernelspec": {
   "display_name": "Python 3 (ipykernel)",
   "language": "python",
   "name": "python3"
  },
  "language_info": {
   "codemirror_mode": {
    "name": "ipython",
    "version": 3
   },
   "file_extension": ".py",
   "mimetype": "text/x-python",
   "name": "python",
   "nbconvert_exporter": "python",
   "pygments_lexer": "ipython3",
   "version": "3.7.6"
  }
 },
 "nbformat": 4,
 "nbformat_minor": 2
}
