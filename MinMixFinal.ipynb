{
 "cells": [
  {
   "cell_type": "markdown",
   "metadata": {},
   "source": [
    "# <center>Minimum Transformation Method\n",
    "## <center>An inverse model for inferring surface fluxes and mixing from gridded hydrographic TS data, <br> by Taimoor Sohail and Jan D. Zika\n"
   ]
  },
  {
   "cell_type": "markdown",
   "metadata": {},
   "source": [
    "\n",
    "##### <center>We use an optimal transport method, minimzing a cost function which respects the volume and mass conservation, and the fundamental physics of mixing in TS space. <br>See also: Jan D Zika et al. (2021) [www.doi.org/10.1175/JCLI-D-20-0355.1 ] for a simpler version of this model which optimizes ocean circulation only.\n",
    "------------"
   ]
  },
  {
   "cell_type": "markdown",
   "metadata": {},
   "source": [
    "### __The code is laid out as follows:__\n",
    "#### A) Pre-processing\n",
    "i) Load necessary modules for computation \\\n",
    "ii) Define key parameters\n",
    "#### B) Load Data\n",
    "i) Load Mask \\\n",
    "ii) Load BSP Data\n",
    "#### C) Define constraints\n",
    "i) Define Connectivity \\\n",
    "ii) Define optimisation equations\n",
    "#### D) Run optimisation\n",
    "#### E) Plot inferred fluxes and mixing\n",
    "----------\n",
    "----------"
   ]
  },
  {
   "cell_type": "markdown",
   "metadata": {},
   "source": [
    "## A) Pre-processing"
   ]
  },
  {
   "cell_type": "markdown",
   "metadata": {},
   "source": [
    "### i) Load necessary modules for computation"
   ]
  },
  {
   "cell_type": "markdown",
   "metadata": {},
   "source": [
    "Module to track runtime of cells and loops"
   ]
  },
  {
   "cell_type": "code",
   "execution_count": 347,
   "metadata": {},
   "outputs": [],
   "source": [
    "import time\n",
    "from tqdm.notebook import tqdm"
   ]
  },
  {
   "cell_type": "markdown",
   "metadata": {},
   "source": [
    "Suppress warnings related to division by zero"
   ]
  },
  {
   "cell_type": "code",
   "execution_count": 346,
   "metadata": {},
   "outputs": [],
   "source": [
    "import warnings\n",
    "warnings.filterwarnings('ignore')\n"
   ]
  },
  {
   "cell_type": "markdown",
   "metadata": {},
   "source": [
    "Module to load files and handle array computations"
   ]
  },
  {
   "cell_type": "code",
   "execution_count": 348,
   "metadata": {},
   "outputs": [],
   "source": [
    "import xarray as xr\n",
    "import numpy as np\n"
   ]
  },
  {
   "cell_type": "markdown",
   "metadata": {},
   "source": [
    "Module to perform the optimization\n"
   ]
  },
  {
   "cell_type": "code",
   "execution_count": 349,
   "metadata": {},
   "outputs": [],
   "source": [
    "import cvxpy as cp"
   ]
  },
  {
   "cell_type": "markdown",
   "metadata": {},
   "source": [
    "Modules to plot outputs\n"
   ]
  },
  {
   "cell_type": "code",
   "execution_count": 350,
   "metadata": {},
   "outputs": [],
   "source": [
    "import matplotlib.pyplot as plt\n",
    "import matplotlib.patches as patches"
   ]
  },
  {
   "cell_type": "markdown",
   "metadata": {},
   "source": [
    "Change universal plot fonts"
   ]
  },
  {
   "cell_type": "code",
   "execution_count": 351,
   "metadata": {},
   "outputs": [],
   "source": [
    "# Specify font properties for plots\n",
    "from matplotlib import rc\n",
    "font = {'family' : 'DejaVu Sans',\n",
    "        'weight' : 'normal',\n",
    "        'size'   : 16}\n",
    "\n",
    "rc('font', **font)"
   ]
  },
  {
   "cell_type": "markdown",
   "metadata": {},
   "source": [
    "### ii) Define key parameters"
   ]
  },
  {
   "cell_type": "code",
   "execution_count": 877,
   "metadata": {},
   "outputs": [],
   "source": [
    "# Penalty on S vs T changes relative to beta/alpha (~4.28)\n",
    "scalefact = 1\n",
    "\n",
    "xnorming = 1#10**15 #normalising coeffcients\n",
    "Areanorming = 1#10**12 #normalising coeffcients\n",
    "\n",
    "# Establish basic constants and TS grid\n",
    "yr2sec = 365.25*24*60*60\n",
    "Cp=4000\n",
    "rho=1024\n",
    "S0=35\n",
    "\n",
    "# Thermal expansion, haline contraction and true scale factor\n",
    "alph = 1.7657*10**-4\n",
    "bet = 7.5544*10**-4\n",
    "ST_scale=1#scalefact*(bet/alph)\n",
    "\n",
    "# Range of years of which 'early' and 'late' are defined\n",
    "dyrs = 10"
   ]
  },
  {
   "cell_type": "markdown",
   "metadata": {},
   "source": [
    "-----------\n",
    "## B) Load Data\n"
   ]
  },
  {
   "cell_type": "markdown",
   "metadata": {},
   "source": [
    "### i) Load Mask"
   ]
  },
  {
   "cell_type": "markdown",
   "metadata": {},
   "source": [
    "In this analysis, we define 9 regions, the Polar Atlantic, Subtropical North Atlantic, Equatorial Atlantic, South Atlantic, Indian, South Pacific, Equatorial Pacific, North Pacific, Southern Ocean. Below we load this mask and plot the regions of interest.  "
   ]
  },
  {
   "cell_type": "markdown",
   "metadata": {},
   "source": [
    "### ii) Load BSP Data"
   ]
  },
  {
   "cell_type": "markdown",
   "metadata": {},
   "source": [
    "\n",
    "The data is presented as monthly T-S observations from EN4, from January 1970 to December 2014. The observations have already been binned via Binary Space Partitioning according to a specific criterion. Folowing Sohail et al. (TBD) the BSP partitioning occurs in an xyxyxyx order, shown to minimize variability in the temperature and salinity signals. The following datasets are currently avilable:\n",
    "\n",
    "1) __Global Data (Volume)__\\\n",
    "This dataset (primarily to be used for debugging purposes) presents the global TS volumetric census, binned into 256 equal-volume bins via BSP, based on the global volume distribution. Thus, each BSP bin contains exactly the same volume, the bounds of which are allowed to change from month to month. \\\n",
    "_This dataset comes from files \"BSP_ACCESS_TS_hist_gvol_*.nc\"\n",
    "\n",
    "2) __Regional Data (Regional Volume)__\\\n",
    "In this dataset, we conduct the global volume analysis above, but isolated to each of the 9 regions defined above. Thus, we obtain 9 sets of 256 BSP bins, each with equal volume. Each region is partitioned into equal volume bins based on that _region's_ volume, not the global volume distribution. \\\n",
    "_This dataset comes from files \"BSP_ACCESS_TS_hist_vol_*.nc\"\n",
    "\n",
    "\n",
    "3) __Regional data (Global Surface Area)__\\\n",
    "In this dataset, we apply BSP to create 256 equal _global surface area_ bins. The data, however, is partitioned into the 9 regions defined above. Hence, each region will have the same 256 bins (which are calculated based on the global surface area distrubtion) but the area and volume captured by the bins will vary from region to region. The sum of the area over the 9 regions will be constant and equal for each BSP bin. \\\n",
    "_This dataset comes from files \"BSP_ACCESS_TS_hist_*.nc\"\n",
    "\n"
   ]
  },
  {
   "cell_type": "code",
   "execution_count": 878,
   "metadata": {},
   "outputs": [],
   "source": [
    "globe = True\n"
   ]
  },
  {
   "cell_type": "code",
   "execution_count": 879,
   "metadata": {},
   "outputs": [
    {
     "name": "stdout",
     "output_type": "stream",
     "text": [
      "CPU times: user 2.7 s, sys: 206 ms, total: 2.9 s\n",
      "Wall time: 3.91 s\n"
     ]
    }
   ],
   "source": [
    "%%time\n",
    "if globe == True:\n",
    "    EN4_data = xr.open_mfdataset('BSP_processed/BSP_EN4_TS_hist_gvol*.nc')\n",
    "else:\n",
    "    EN4_data = xr.open_mfdataset('BSP_processed/BSP_EN4_TS_hist_*.nc')\n",
    "    # EN4_data = xr.open_mfdataset('BSP_processed/BSP_EN4_TS_hist_vol*.nc')\n",
    "\n",
    "\n",
    "# Early = first 10 years (1970 -1980)\n",
    "Part_early = EN4_data.Partitions_hist.isel(Time=slice(0,12)).mean('Time')\n",
    "SAearly =  EN4_data.T_mean_hist.isel(Time=slice(0,12)).mean('Time')\n",
    "CTearly = EN4_data.S_mean_hist.isel(Time=slice(0,12)).mean('Time')\n",
    "Vearly = EN4_data.V_sum_hist.isel(Time=slice(0,12)).mean('Time')\n",
    "\n",
    "# Late = first 10 years (2004-2014)\n",
    "Part_late = EN4_data.Partitions_hist.isel(Time=slice(48,60)).mean('Time')\n",
    "SAlate = EN4_data.T_mean_hist.isel(Time=slice(48,60)).mean('Time')\n",
    "CTlate = EN4_data.S_mean_hist.isel(Time=slice(48,60)).mean('Time')\n",
    "Vlate = EN4_data.V_sum_hist.isel(Time=slice(48,60)).mean('Time')\n",
    "\n",
    "if globe == False:\n",
    "    Aearly = EN4_data.A_sum_hist.isel(Time=slice(0,12*dyrs)).mean('Time')\n",
    "    Alate = EN4_data.A_sum_hist.isel(Time=slice(12*-dyrs,-1)).mean('Time')\n",
    "    Basins = EN4_data.Basin.values"
   ]
  },
  {
   "cell_type": "code",
   "execution_count": 880,
   "metadata": {},
   "outputs": [
    {
     "name": "stdout",
     "output_type": "stream",
     "text": [
      "1.5159478965455096e+18\n",
      "1.5159478965455096e+18\n"
     ]
    }
   ],
   "source": [
    "print(Vlate.sum('Depth').values)\n",
    "print(Vearly.sum('Depth').values)\n"
   ]
  },
  {
   "cell_type": "code",
   "execution_count": 881,
   "metadata": {},
   "outputs": [],
   "source": [
    "# Flatten the early and late variables to a 1D array\n",
    "flat_Vol_blc1 = Vearly.values.flatten()\n",
    "flat_Vol_blc2 = Vlate.values.flatten()\n",
    "flat_S_blc1 = CTearly.values.flatten()-35\n",
    "flat_S_blc2 = CTlate.values.flatten()-35\n",
    "flat_T_blc1 = SAearly.values.flatten()\n",
    "flat_T_blc2 = SAlate.values.flatten()\n",
    "\n",
    "\n",
    "if globe == False:\n",
    "    flat_A_blc1 = Aearly.values.flatten()\n",
    "    flat_A_blc2 = Alate.values.flatten()\n",
    "\n",
    "\n",
    "        # Do the same for basin index\n",
    "    Basin_blc1 = np.zeros_like(Vearly)\n",
    "    Basin_blc2 = np.zeros_like(Vearly)\n",
    "    flat_Basin_blc_names = []\n",
    "    for i in range(np.array(Basins).size):\n",
    "        Basin_blc1[i,:] = i\n",
    "        Basin_blc2[i,:] = i\n",
    "        for j in range(Vearly.shape[-1]):\n",
    "            flat_Basin_blc_names.append(Basins[i])\n",
    "\n",
    "    #... and for basin name\n",
    "    flat_Basin_blc1 = Basin_blc1.flatten()\n",
    "    flat_Basin_blc2 = Basin_blc2.flatten()\n",
    "\n",
    "    #... and for the edges of the BSP bins\n",
    "    flat_S_st_basin = (0.5*(Part_early.values[:,:,0]+Part_late.values[:,:,0])).flatten()-35\n",
    "    flat_S_end_basin = (0.5*(Part_early.values[:,:,1]+Part_late.values[:,:,1])).flatten()-35\n",
    "    flat_T_st_basin = (0.5*(Part_early.values[:,:,2]+Part_late.values[:,:,2])).flatten()\n",
    "    flat_T_end_basin = (0.5*(Part_early.values[:,:,3]+Part_late.values[:,:,3])).flatten()\n",
    "\n",
    "#... and for the edges of the BSP bins\n",
    "flat_S_st_basin = (0.5*(Part_early.values[:,0]+Part_late.values[:,0])).flatten()-35\n",
    "flat_S_end_basin = (0.5*(Part_early.values[:,1]+Part_late.values[:,1])).flatten()-35\n",
    "flat_T_st_basin = (0.5*(Part_early.values[:,2]+Part_late.values[:,2])).flatten()\n",
    "flat_T_end_basin = (0.5*(Part_early.values[:,3]+Part_late.values[:,3])).flatten()\n",
    "\n",
    "# Any NaNs are zeroed out\n",
    "# flat_S_blc1[np.isnan(flat_S_blc1)] = 0\n",
    "# flat_S_blc2[np.isnan(flat_S_blc2)] = 0\n",
    "# flat_T_blc1[np.isnan(flat_T_blc1)] = 0\n",
    "# flat_T_blc2[np.isnan(flat_T_blc2)] = 0"
   ]
  },
  {
   "cell_type": "markdown",
   "metadata": {},
   "source": [
    "# SIMPLE EXAMPLE\n",
    "## Here, we override the BSP bins to explore two simple examples: No mixing, and no fluxes. \n",
    "### Note: xnorming, ST_scale have been set to 1"
   ]
  },
  {
   "cell_type": "code",
   "execution_count": 1207,
   "metadata": {},
   "outputs": [],
   "source": [
    "# OVERRIDING SIMPLE NO FLUX EXAMPLE (4 WMs)\n",
    "# flat_Vol_blc1 = np.array([1,1,1,1])\n",
    "# flat_Vol_blc2 = np.array([0,2,0,2])\n",
    "# flat_S_blc1 = np.array([1,1,4,4])\n",
    "# flat_S_blc2 = np.array([-2,1,-2,4])\n",
    "# flat_T_blc1 = np.array([1,3,1,3])\n",
    "# flat_T_blc2 = np.array([-2,2,-2,2])\n",
    "\n",
    "# OVERRIDING SIMPLE NO MIXING EXAMPLE (4 WMs)\n",
    "# flat_Vol_blc1 = np.array([1,1,1,1])\n",
    "# flat_Vol_blc2 = np.array([1,1,1,1])\n",
    "# flat_S_blc1 = np.array([1,1,2,2])\n",
    "# flat_S_blc2 = np.array([2,2,3,3])\n",
    "# flat_T_blc1 = np.array([1,3,1,3])\n",
    "# flat_T_blc2 = np.array([2,4,2,4])\n",
    "\n",
    "# OVERRIDING SIMPLE NO FLUX EXAMPLE (2 WMs)\n",
    "flat_Vol_blc1 = np.array([1,1])\n",
    "flat_Vol_blc2 = np.array([2,0])\n",
    "flat_S_blc1 = np.array([1,3])\n",
    "flat_S_blc2 = np.array([2,-10])\n",
    "flat_T_blc1 = np.array([4,4])\n",
    "flat_T_blc2 = np.array([4,-10])"
   ]
  },
  {
   "cell_type": "code",
   "execution_count": 1188,
   "metadata": {},
   "outputs": [
    {
     "name": "stdout",
     "output_type": "stream",
     "text": [
      "Total number of bins = 4\n"
     ]
    }
   ],
   "source": [
    "print('Total number of bins =', int(flat_Vol_blc1.shape[0]))"
   ]
  },
  {
   "cell_type": "markdown",
   "metadata": {},
   "source": [
    "#### Plot time-mean volume"
   ]
  },
  {
   "cell_type": "code",
   "execution_count": 1189,
   "metadata": {},
   "outputs": [],
   "source": [
    "if globe == False:\n",
    "    fig, axs = plt.subplots(3,3, figsize=(15,15), facecolor='w', edgecolor='k')\n",
    "    fig.subplots_adjust(hspace = .2, wspace=0.2)\n",
    "    axs = axs.ravel() \n",
    "    cax = fig.add_axes([0.925, 0.12, 0.02, 0.23])\n",
    "\n",
    "    minv, maxv = 11,15\n",
    "    cmap = 'Blues'\n",
    "\n",
    "    for bx in range(Basins.size):\n",
    "        axs[bx].scatter(SAearly[bx,:],CTearly[bx,:], 10, np.log10(Vearly[bx,:]),cmap=cmap, vmin=minv, vmax=maxv, marker = '.')\n",
    "        axs[bx].set_xlim(32,39)\n",
    "        axs[bx].set_ylim(-3,32)\n",
    "        axs[bx].set_title(Basins[bx])\n",
    "        if bx==0 or bx==3 or bx==6:\n",
    "            axs[bx].set_ylabel('Temperature [$^{\\circ}C$]')\n",
    "        if bx==6 or bx==7 or bx==8:\n",
    "            axs[bx].set_xlabel('Salinity [$g/kg$]')\n",
    "            \n",
    "    m = plt.cm.ScalarMappable(cmap=cmap)\n",
    "    m.set_clim(minv, maxv)\n",
    "    cbar = fig.colorbar(m, cax=cax, orientation='vertical')\n",
    "    cbar.set_label('Time-mean Volume [$log_{10}(m^3)$]') \n",
    "    # plt.savefig('../../Figures/BSP_clustering_mean_volumes_Vbased.png', bbox_inches='tight', dpi=300)\n",
    "    plt.show()"
   ]
  },
  {
   "cell_type": "code",
   "execution_count": 1190,
   "metadata": {},
   "outputs": [
    {
     "data": {
      "image/png": "[encoded data removed]",
      "text/plain": [
       "<Figure size 432x288 with 2 Axes>"
      ]
     },
     "metadata": {
      "needs_background": "light"
     },
     "output_type": "display_data"
    }
   ],
   "source": [
    "if globe == True:\n",
    "    minv, maxv = 11,18\n",
    "    cmap = 'Blues'\n",
    "\n",
    "    plt.scatter(CTearly,SAearly, 10, np.log10(Vearly),cmap=cmap, vmin=minv, vmax=maxv, marker = '.')\n",
    "    plt.xlim(32,39)\n",
    "    plt.ylim(-3,32)\n",
    "    plt.title('Global')\n",
    "    plt.ylabel('Temperature [$^{\\circ}C$]')\n",
    "    plt.xlabel('Salinity [$g/kg$]')\n",
    "    cbar = plt.colorbar()\n",
    "    cbar.set_label('Time-mean Volume [$log_{10}(m^3)$]') \n",
    "\n",
    "    # plt.savefig('../../Figures/BSP_clustering_mean_volumes_Vbased.png', bbox_inches='tight', dpi=300)\n",
    "\n",
    "    plt.show()"
   ]
  },
  {
   "cell_type": "markdown",
   "metadata": {},
   "source": [
    "---------------\n",
    "## C) Define Constraints"
   ]
  },
  {
   "cell_type": "markdown",
   "metadata": {},
   "source": [
    "### i) Define Connectivity"
   ]
  },
  {
   "cell_type": "markdown",
   "metadata": {},
   "source": [
    "We must define whether a BSP bin is allowed to transport volume to another BSP bin. In the simplest case, all bins are allowed to transport to one another - but this yields nonphysical transport across vast distances and TS bounds.\n",
    "To improve on this, two connectivity constraints are used: \n",
    "1) Are the basins adjacent? This is defined via the connectivity array, below\n",
    "2) If YES, do the BSP bins have overlapping (or the same) TS boundaries?\\\n",
    "If yes, the bins are connected. If no, they are not.\n"
   ]
  },
  {
   "cell_type": "code",
   "execution_count": 1191,
   "metadata": {},
   "outputs": [],
   "source": [
    "if globe == False:\n",
    "    # Array defining the connection between the 9 basins; 0=connected, 1=disconnected\n",
    "    connectivity_array = np.zeros((9,9))\n",
    "\n",
    "    connectivity_array[0,:] = [0, 0, 1, 1, 1, 1, 1, 1, 1]\n",
    "    connectivity_array[1,:] = [0, 0, 0, 1, 1, 1, 1, 1, 1]\n",
    "    connectivity_array[2,:] = [1, 0, 0, 0, 1, 1, 1, 1, 1]\n",
    "    connectivity_array[3,:] = [1, 1, 0, 0, 1, 1, 1, 1, 0]\n",
    "    connectivity_array[4,:] = [1, 1, 1, 1, 0, 1, 0, 1, 0]\n",
    "    connectivity_array[5,:] = [1, 1, 1, 1, 1, 0, 0, 1, 0]\n",
    "    connectivity_array[6,:] = [1, 1, 1, 1, 0, 0, 0, 0, 1]\n",
    "    connectivity_array[7,:] = [1, 1, 1, 1, 1, 1, 0, 0, 1]\n",
    "    connectivity_array[8,:] = [1, 1, 1, 0, 0, 0, 1, 1, 0]"
   ]
  },
  {
   "cell_type": "code",
   "execution_count": 1192,
   "metadata": {},
   "outputs": [
    {
     "name": "stdout",
     "output_type": "stream",
     "text": [
      "CPU times: user 29 µs, sys: 2 µs, total: 31 µs\n",
      "Wall time: 33.9 µs\n"
     ]
    }
   ],
   "source": [
    "%%time\n",
    "if globe == True:\n",
    "    connected = np.ones((flat_Vol_blc1.size, flat_Vol_blc1.size))\n",
    "else:\n",
    "    # Define whether a bin is connected to every other bin\n",
    "    # The two constraints used are: are the basins adjacent? \n",
    "    # If yes, are the T and S edges of the bin overlapping (or the same) as this bin? \n",
    "    # If yes, the bins are connected; if no, they are not connected. \n",
    "    connected = np.zeros((flat_Vol_blc1.size, flat_Vol_blc1.size))\n",
    "    connected_Sst = np.zeros_like(connected)\n",
    "    connected_Tst = np.zeros_like(connected)\n",
    "    connected_Send = np.zeros_like(connected)\n",
    "    connected_Tend = np.zeros_like(connected)\n",
    "    for i in tqdm(range(flat_Vol_blc1.size)):\n",
    "        for j in range(flat_Vol_blc2.size):\n",
    "            if connectivity_array[int(flat_Basin_blc1[i]), int(flat_Basin_blc1[j])]==0:\n",
    "                if flat_Basin_blc_names[i] == flat_Basin_blc_names[j]:\n",
    "                    connected[i,j] = 1\n",
    "                elif flat_S_st_basin[i]==flat_S_st_basin[j] and flat_T_st_basin[i]==flat_T_st_basin[j]:\n",
    "                    connected[i,j] = 1"
   ]
  },
  {
   "cell_type": "code",
   "execution_count": 1193,
   "metadata": {},
   "outputs": [],
   "source": [
    "# connected = np.array([[1,0,1,0],[1,1,1,1],[1,0,1,0],[0,1,0,1]])\n",
    "# connected = np.zeros((flat_Vol_blc1.size, flat_Vol_blc1.size))"
   ]
  },
  {
   "cell_type": "markdown",
   "metadata": {},
   "source": [
    "### ii) Define optimisation equations"
   ]
  },
  {
   "cell_type": "markdown",
   "metadata": {},
   "source": [
    "Define optimisation equation to minimise Ax-b, and constraint such that volume must be conserved, Cx-d=0. \n",
    "In this case, A is the area-averaged T and S and b is the area-averaged, volume-weighted T and S (i.e. TV, SV).\n",
    "C is the connectivity between basins (1 or 0), and d is the volume of the bins"
   ]
  },
  {
   "cell_type": "code",
   "execution_count": 1194,
   "metadata": {},
   "outputs": [
    {
     "data": {
      "application/vnd.jupyter.widget-view+json": {
       "model_id": "a3c593051b6e458ca2df6b381bc23e46",
       "version_major": 2,
       "version_minor": 0
      },
      "text/plain": [
       "  0%|          | 0/4 [00:00<?, ?it/s]"
      ]
     },
     "metadata": {},
     "output_type": "display_data"
    },
    {
     "data": {
      "application/vnd.jupyter.widget-view+json": {
       "model_id": "830a8ea15730475684fa19001bc41ca2",
       "version_major": 2,
       "version_minor": 0
      },
      "text/plain": [
       "  0%|          | 0/16 [00:00<?, ?it/s]"
      ]
     },
     "metadata": {},
     "output_type": "display_data"
    },
    {
     "name": "stdout",
     "output_type": "stream",
     "text": [
      "CPU times: user 71.6 ms, sys: 10.4 ms, total: 82 ms\n",
      "Wall time: 87.4 ms\n"
     ]
    }
   ],
   "source": [
    "%%time\n",
    "\n",
    "nofaces = np.nansum(connected)\n",
    "A1_connec=np.zeros((flat_Vol_blc1.size,int(nofaces)))\n",
    "A2_connec=np.zeros((flat_Vol_blc2.size,int(nofaces)))\n",
    "# Also make T and S matrix with the T(k,i) the temp of the ith early WM\n",
    "Tmatrix=np.zeros((flat_Vol_blc1.size,int(nofaces)))\n",
    "Smatrix=np.zeros((flat_Vol_blc1.size,int(nofaces)))\n",
    "ix=0\n",
    "for i in tqdm(range(flat_Vol_blc1.size)):\n",
    "    for j in range(flat_Vol_blc2.size):\n",
    "        if globe == False:\n",
    "            if connected[i,j]==1:\n",
    "                A1_connec[i,ix] = 1 # vertex ix connects from WM i\n",
    "                A2_connec[j,ix] = 1 # vertex ix connects to WM j\n",
    "                Tmatrix[i,ix] = flat_T_blc1[i] #vertex ix brings temp of WM i to WM j\n",
    "                Smatrix[i,ix] = flat_S_blc1[i] #vertex ix brings temp of WM i to WM j\n",
    "                ix=ix+1\n",
    "        else:\n",
    "            if connected[i,j]==1:\n",
    "                A1_connec[i,ix] = 1 # vertex ix connects from WM i\n",
    "                A2_connec[j,ix] = 1 # vertex ix connects to WM j\n",
    "                Tmatrix[i,ix] = flat_T_blc1[i] #vertex ix brings temp of WM i to WM j\n",
    "                Smatrix[i,ix] = flat_S_blc1[i] #vertex ix brings temp of WM i to WM j\n",
    "                ix=ix+1\n",
    "\n",
    "AA = np.concatenate((A1_connec,A2_connec),axis=0)\n",
    "CC_T = np.zeros_like(Tmatrix)\n",
    "CC_S = np.zeros_like(Tmatrix)\n",
    "for i in tqdm(range(int(nofaces))):\n",
    "    if globe == True:\n",
    "        CC_T[:,i] = Tmatrix[:,i]\n",
    "        CC_S[:,i] = ST_scale*(Smatrix[:,i])\n",
    "    else:\n",
    "        CC_T[:,i] = Areanorming*Tmatrix[:,i]/(flat_A_blc1+10**10)\n",
    "        CC_S[:,i] = Areanorming*ST_scale*(Smatrix[:,i])/(flat_A_blc1+10**10)\n",
    "\n",
    "CC = np.concatenate((CC_T,CC_S),axis=0)\n",
    "#plus 10**10 to prevent divide by zero\n",
    "bb = np.concatenate((flat_Vol_blc1/xnorming,flat_Vol_blc2/xnorming),axis=0)\n",
    "if globe == True:\n",
    "    dd = np.concatenate((flat_Vol_blc2*flat_T_blc2,\\\n",
    "                            ST_scale*flat_Vol_blc2*flat_S_blc2), axis=0)/xnorming\n",
    "else:\n",
    "    dd = Areanorming*np.concatenate((flat_Vol_blc2*flat_T_blc2/(flat_A_blc2+10**10),\\\n",
    "                            ST_scale*flat_Vol_blc2*flat_S_blc2/(flat_A_blc2+10**10)), axis=0)/xnorming\n",
    "dd[np.isnan(dd)]=0"
   ]
  },
  {
   "cell_type": "markdown",
   "metadata": {},
   "source": [
    "-----------------\n",
    "## D) Run Optimisation"
   ]
  },
  {
   "cell_type": "code",
   "execution_count": 1195,
   "metadata": {},
   "outputs": [
    {
     "name": "stdout",
     "output_type": "stream",
     "text": [
      "===============================================================================\n",
      "                                     CVXPY                                     \n",
      "                                    v1.1.13                                    \n",
      "===============================================================================\n",
      "(CVXPY) Mar 21 04:45:29 PM: Your problem has 16 variables, 1 constraints, and 0 parameters.\n",
      "(CVXPY) Mar 21 04:45:29 PM: It is compliant with the following grammars: DCP, DQCP\n",
      "(CVXPY) Mar 21 04:45:29 PM: (If you need to solve this problem multiple times, but with different data, consider using parameters.)\n",
      "(CVXPY) Mar 21 04:45:29 PM: CVXPY will first compile your problem; then, it will invoke a numerical solver to obtain a solution.\n",
      "-------------------------------------------------------------------------------\n",
      "                                  Compilation                                  \n",
      "-------------------------------------------------------------------------------\n",
      "(CVXPY) Mar 21 04:45:29 PM: Compiling problem (target solver=MOSEK).\n",
      "(CVXPY) Mar 21 04:45:29 PM: Reduction chain: Dcp2Cone -> CvxAttr2Constr -> ConeMatrixStuffing -> MOSEK\n",
      "(CVXPY) Mar 21 04:45:29 PM: Applying reduction Dcp2Cone\n",
      "(CVXPY) Mar 21 04:45:29 PM: Applying reduction CvxAttr2Constr\n",
      "(CVXPY) Mar 21 04:45:29 PM: Applying reduction ConeMatrixStuffing\n",
      "(CVXPY) Mar 21 04:45:29 PM: Applying reduction MOSEK\n",
      "(CVXPY) Mar 21 04:45:29 PM: Finished problem compilation (took 1.848e-02 seconds).\n",
      "-------------------------------------------------------------------------------\n",
      "                                Numerical solver                               \n",
      "-------------------------------------------------------------------------------\n",
      "(CVXPY) Mar 21 04:45:29 PM: Invoking solver MOSEK  to obtain a solution.\n",
      "\n",
      "\n",
      "Problem\n",
      "  Name                   :                 \n",
      "  Objective sense        : max             \n",
      "  Type                   : CONIC (conic optimization problem)\n",
      "  Constraints            : 17              \n",
      "  Cones                  : 1               \n",
      "  Scalar variables       : 18              \n",
      "  Matrix variables       : 0               \n",
      "  Integer variables      : 0               \n",
      "\n",
      "Optimizer started.\n",
      "Problem\n",
      "  Name                   :                 \n",
      "  Objective sense        : max             \n",
      "  Type                   : CONIC (conic optimization problem)\n",
      "  Constraints            : 17              \n",
      "  Cones                  : 1               \n",
      "  Scalar variables       : 18              \n",
      "  Matrix variables       : 0               \n",
      "  Integer variables      : 0               \n",
      "\n",
      "Optimizer  - threads                : 12              \n",
      "Optimizer  - solved problem         : the dual        \n",
      "Optimizer  - Constraints            : 1\n",
      "Optimizer  - Cones                  : 1\n",
      "Optimizer  - Scalar variables       : 3                 conic                  : 3               \n",
      "Optimizer  - Semi-definite variables: 0                 scalarized             : 0               \n",
      "Factor     - setup time             : 0.00              dense det. time        : 0.00            \n",
      "Factor     - ML order time          : 0.00              GP order time          : 0.00            \n",
      "Factor     - nonzeros before factor : 1                 after factor           : 1               \n",
      "Factor     - dense dim.             : 0                 flops                  : 9.00e+00        \n",
      "ITE PFEAS    DFEAS    GFEAS    PRSTATUS   POBJ              DOBJ              MU       TIME  \n",
      "0   0.0e+00  1.2e+01  2.0e+00  0.00e+00   -1.000000000e+00  0.000000000e+00   1.0e+00  0.00  \n",
      "1   6.7e-16  5.6e-01  3.6e-01  -9.68e-01  2.238722749e+01   7.915909494e+00   4.5e-02  0.01  \n",
      "2   5.1e-15  1.1e-01  5.8e-02  -2.34e-01  3.659044020e+01   2.652179213e+01   8.9e-03  0.01  \n",
      "3   6.7e-15  2.2e-03  5.7e-05  8.54e-01   3.776172370e+01   3.774602285e+01   1.8e-04  0.01  \n",
      "4   4.6e-13  1.0e-05  2.0e-08  9.76e-01   3.799877520e+01   3.799868036e+01   8.3e-07  0.01  \n",
      "5   5.9e-12  3.0e-09  9.9e-14  1.00e+00   3.799999963e+01   3.799999960e+01   2.4e-10  0.02  \n",
      "Optimizer terminated. Time: 0.02    \n",
      "\n",
      "\n",
      "Interior-point solution summary\n",
      "  Problem status  : PRIMAL_AND_DUAL_FEASIBLE\n",
      "  Solution status : OPTIMAL\n",
      "  Primal.  obj: 3.7999999631e+01    nrm: 4e+01    Viol.  con: 4e-15    var: 0e+00    cones: 0e+00  \n",
      "  Dual.    obj: 3.7999999600e+01    nrm: 4e+01    Viol.  con: 0e+00    var: 0e+00    cones: 2e-08  \n",
      "-------------------------------------------------------------------------------\n",
      "                                    Summary                                    \n",
      "-------------------------------------------------------------------------------\n",
      "(CVXPY) Mar 21 04:45:29 PM: Problem status: optimal\n",
      "(CVXPY) Mar 21 04:45:29 PM: Optimal value: 3.800e+01\n",
      "(CVXPY) Mar 21 04:45:29 PM: Compilation took 1.848e-02 seconds\n",
      "(CVXPY) Mar 21 04:45:29 PM: Solver (including time spent in interface) took 3.987e-02 seconds\n",
      "Optimal value: 38.0\n",
      "Variable var3831: value [-0.  2. -0. -1. -0. -0. -0.  1. -0. -0. -0.  1. -0. -0. -0.  1.]\n",
      "[-0.  2. -0. -1. -0. -0. -0.  1. -0. -0. -0.  1. -0. -0. -0.  1.]\n",
      "CPU times: user 48.4 ms, sys: 33.9 ms, total: 82.3 ms\n",
      "Wall time: 66.6 ms\n"
     ]
    }
   ],
   "source": [
    "%%time\n",
    "m = CC.shape[0]\n",
    "n = CC.shape[1]\n",
    "\n",
    "A = CC\n",
    "C = AA\n",
    "d = bb\n",
    "b = dd\n",
    "x = cp.Variable(n, nonneg=False)\n",
    "\n",
    "cost = cp.sum_squares(A@x-b)\n",
    "constraints = [C@x==d]\n",
    "prob = cp.Problem(cp.Minimize(cost), constraints)\n",
    "\n",
    "# The optimal objective value is returned by prob.solve()`.\n",
    "# OSQP, ECOS, ECOS_BB, MOSEK, CBC, CVXOPT, NAG, GUROBI, and SCS\n",
    "result = prob.solve(verbose=True, solver=cp.MOSEK)\n",
    "\n",
    "if prob.status not in [\"infeasible\", \"unbounded\"]:\n",
    "    # Otherwise, problem.value is inf or -inf, respectively.\n",
    "    print(\"Optimal value: %s\" % prob.value)\n",
    "for variable in prob.variables():\n",
    "    print(\"Variable %s: value %s\" % (variable.name(), variable.value))\n",
    "\n",
    "# The optimal value for x is stored in `x.value`.\n",
    "xxx=x.value\n",
    "print(xxx)\n"
   ]
  },
  {
   "cell_type": "code",
   "execution_count": 1197,
   "metadata": {},
   "outputs": [
    {
     "name": "stdout",
     "output_type": "stream",
     "text": [
      "[ 1. -0. -0. -0. -2.  2. -0.  1. -0. -0. -0.  1.  1. -0. -0. -0.]\n"
     ]
    }
   ],
   "source": [
    "print(xxx)\n",
    "# plt.plot((b))"
   ]
  },
  {
   "cell_type": "code",
   "execution_count": 1198,
   "metadata": {},
   "outputs": [
    {
     "name": "stdout",
     "output_type": "stream",
     "text": [
      "[0. 0. 0. 0. 0. 0. 0. 0.]\n"
     ]
    }
   ],
   "source": [
    "print((C@xxx-d))\n",
    "# plt.plot((d))"
   ]
  },
  {
   "cell_type": "markdown",
   "metadata": {},
   "source": [
    "##### Define the mixing and adjustment of T and S"
   ]
  },
  {
   "cell_type": "code",
   "execution_count": 1199,
   "metadata": {},
   "outputs": [
    {
     "name": "stdout",
     "output_type": "stream",
     "text": [
      "[inf 1.5 inf 1.5]\n"
     ]
    }
   ],
   "source": [
    "Tmixed = np.matmul(Tmatrix,xxx)/(flat_Vol_blc2/xnorming) #Changed from flat_vol_blc1\n",
    "print(Tmixed)\n",
    "Tmixed[~np.isfinite(Tmixed)]=np.nan\n",
    "Tmixed[Tmixed>100] = np.nan\n",
    "Smixed = np.matmul(Smatrix,xxx)/(flat_Vol_blc2/xnorming) #Changed from flat_vol_blc1\n",
    "Smixed[~np.isfinite(Smixed)]=np.nan\n",
    "Smixed[Smixed>10**4] = np.nan\n",
    "\n",
    "# Now the necessary heat and salt adjustment is simply the difference\n",
    "# between this and what we actually get\n",
    "dTV_adj = (flat_T_blc2-Tmixed)*flat_Vol_blc2\n",
    "dSV_adj = (flat_S_blc2-Smixed)*flat_Vol_blc2\n",
    "\n",
    "# Furthermore we want to know how much T and S change the mixing actually\n",
    "# causes for the early water masses as they turn into late water masses.\n",
    "ix=0\n",
    "dT_between=np.zeros((flat_Vol_blc2.size,int(nofaces)))\n",
    "dS_between=np.zeros((flat_Vol_blc2.size,int(nofaces)))\n",
    "for i in range(flat_Vol_blc1.size):\n",
    "    for j in range(flat_Vol_blc2.size):\n",
    "        if connected[i,j]==1:\n",
    "            dT_between[i,ix] = Tmixed[j]-flat_T_blc1[i]\n",
    "            #temp where it gets to minus where it came from\n",
    "            dS_between[i,ix] = Smixed[j]-flat_S_blc1[i]\n",
    "            ix=ix+1\n",
    "\n",
    "dTV_mix = np.matmul(dT_between,xxx)*xnorming\n",
    "dSV_mix = np.matmul(dS_between,xxx)*xnorming\n",
    "# Dividing by the volume we get the average temperature change.\n",
    "T_Av_adj = dTV_adj/(flat_Vol_blc2)\n",
    "T_Av_adj[np.isnan(T_Av_adj)] = 0\n",
    "S_Av_adj = dSV_adj/(flat_Vol_blc2)\n",
    "S_Av_adj[np.isnan(S_Av_adj)]= 0\n",
    "\n",
    "# Do the same for the mixing onto the early WMs\n",
    "T_Av_mix = dTV_mix/(flat_Vol_blc1)\n",
    "T_Av_mix[np.isnan(T_Av_mix)] = 0\n",
    "T_Av_mix[T_Av_mix==np.inf] = 0\n",
    "S_Av_mix = dSV_mix/(flat_Vol_blc1)\n",
    "S_Av_mix[np.isnan(S_Av_mix)]= 0\n",
    "S_Av_mix[S_Av_mix==np.inf] = 0"
   ]
  },
  {
   "cell_type": "code",
   "execution_count": 1200,
   "metadata": {},
   "outputs": [
    {
     "name": "stdout",
     "output_type": "stream",
     "text": [
      "[nan 1.5 nan 1.5]\n",
      "[nan 0.5 nan 2. ]\n"
     ]
    }
   ],
   "source": [
    "print(Tmixed)\n",
    "print(Smixed)"
   ]
  },
  {
   "cell_type": "markdown",
   "metadata": {},
   "source": [
    "---------------------\n",
    "## E) Plot inferred fluxes and mixing"
   ]
  },
  {
   "cell_type": "markdown",
   "metadata": {},
   "source": [
    "##### Surface Fluxes of Salinity"
   ]
  },
  {
   "cell_type": "code",
   "execution_count": 1201,
   "metadata": {},
   "outputs": [
    {
     "name": "stdout",
     "output_type": "stream",
     "text": [
      "CPU times: user 4 µs, sys: 2 µs, total: 6 µs\n",
      "Wall time: 9.06 µs\n"
     ]
    }
   ],
   "source": [
    "%%time\n",
    "if globe == False:\n",
    "\n",
    "    fig, axs = plt.subplots(3,3, figsize=(15,15), facecolor='w', edgecolor='k')\n",
    "    fig.subplots_adjust(hspace = .2, wspace=0.2)\n",
    "    axs = axs.ravel() \n",
    "    cax = fig.add_axes([0.925, 0.12, 0.02, 0.23])\n",
    "\n",
    "    minv, maxv = -1,1\n",
    "    cmap = plt.cm.bwr\n",
    "    norm = plt.Normalize(minv, maxv)\n",
    "    sm = plt.cm.ScalarMappable(cmap=cmap, norm=norm)\n",
    "    sm.set_array([])\n",
    "\n",
    "    k=0\n",
    "    for i in range(np.array(Basins).size):\n",
    "        for j in range(256):\n",
    "            axs[i].scatter(0.5*(flat_S_blc1[k]+flat_S_blc2[k]), 0.5*(flat_T_blc1[k]+flat_T_blc2[k]), 10, color=cmap(norm(10*S_Av_adj[k]/dyrs)), zorder=100)\n",
    "            # axs[i].add_patch(patches.Rectangle((x0[j], y0[j]), w[j], h[j], ec=None, color=cmap(norm(10*S_Av_adj[k]/dyrs))))\n",
    "            axs[i].set_xlim(32,39)\n",
    "            axs[i].set_ylim(-3,32)\n",
    "            axs[i].set_title(Basins[i])\n",
    "            axs[i].grid(True)\n",
    "            k=k+1\n",
    "        if i==0 or i==3 or i==6:\n",
    "            axs[i].set_ylabel('Temperature [$^{\\circ}C$]')\n",
    "        if i==6 or i==7 or i==8:\n",
    "            axs[i].set_xlabel('Salinity [$g/kg$]')\n",
    "    m = plt.cm.ScalarMappable(cmap='bwr')\n",
    "    m.set_clim(minv, maxv)\n",
    "    cbar = fig.colorbar(m, cax=cax, orientation='vertical')\n",
    "    cbar.set_label('$^{\\circ}C$/decade') \n",
    "    # plt.savefig('../../Figures/Minimisation_9basins.png', dpi=300, bbox_inches='tight')\n",
    "    plt.show()"
   ]
  },
  {
   "cell_type": "code",
   "execution_count": 1202,
   "metadata": {},
   "outputs": [
    {
     "data": {
      "image/png": "[encoded data removed]",
      "text/plain": [
       "<Figure size 432x288 with 1 Axes>"
      ]
     },
     "metadata": {
      "needs_background": "light"
     },
     "output_type": "display_data"
    }
   ],
   "source": [
    "if globe == True:\n",
    "    minv, maxv = -.01,.01\n",
    "    cmap = plt.cm.bwr\n",
    "    norm = plt.Normalize(minv, maxv)\n",
    "    sm = plt.cm.ScalarMappable(cmap=cmap, norm=norm)\n",
    "    sm.set_array([])\n",
    "\n",
    "    plt.scatter(0.5*(flat_S_blc1+flat_S_blc2+35*2), 0.5*(flat_T_blc1+flat_T_blc2), 10, color=cmap(norm(10*S_Av_adj/dyrs)), zorder=100)\n",
    "    plt.xlim(32,39)\n",
    "    plt.ylim(-3,32)\n",
    "    plt.title('Global')\n",
    "    plt.grid(True)\n",
    "    plt.ylabel('Temperature [$^{\\circ}C$]')\n",
    "    plt.xlabel('Salinity [$g/kg$]')\n",
    "    plt.show()\n"
   ]
  },
  {
   "cell_type": "markdown",
   "metadata": {},
   "source": [
    "##### Surface Fluxes of Temperature"
   ]
  },
  {
   "cell_type": "code",
   "execution_count": 1203,
   "metadata": {},
   "outputs": [
    {
     "name": "stdout",
     "output_type": "stream",
     "text": [
      "CPU times: user 4 µs, sys: 2 µs, total: 6 µs\n",
      "Wall time: 10 µs\n"
     ]
    }
   ],
   "source": [
    "%%time\n",
    "if globe == False:\n",
    "    fig, axs = plt.subplots(3,3, figsize=(15,15), facecolor='w', edgecolor='k')\n",
    "    fig.subplots_adjust(hspace = .2, wspace=0.2)\n",
    "    axs = axs.ravel() \n",
    "    cax = fig.add_axes([0.925, 0.12, 0.02, 0.23])\n",
    "\n",
    "    minv, maxv = -1,1\n",
    "    cmap = plt.cm.bwr\n",
    "    norm = plt.Normalize(minv, maxv)\n",
    "    sm = plt.cm.ScalarMappable(cmap=cmap, norm=norm)\n",
    "    sm.set_array([])\n",
    "\n",
    "    k=0\n",
    "    for i in range(np.array(Basins).size):\n",
    "        for j in range(256):\n",
    "            axs[i].scatter(0.5*(flat_S_blc1[k]+flat_S_blc2[k]+35*2), 0.5*(flat_T_blc1[k]+flat_T_blc2[k]), 10, color=cmap(norm(10*S_Av_adj[k]/dyrs)), zorder=100)\n",
    "            # axs[i].add_patch(patches.Rectangle((x0[j], y0[j]), w[j], h[j], ec=None, color=cmap(norm(10*S_Av_adj[k]/dyrs))))\n",
    "            axs[i].set_xlim(32,39)\n",
    "            axs[i].set_ylim(-3,32)\n",
    "            axs[i].set_title(Basins[i])\n",
    "            axs[i].grid(True)\n",
    "            k=k+1\n",
    "        if i==0 or i==3 or i==6:\n",
    "            axs[i].set_ylabel('Temperature [$^{\\circ}C$]')\n",
    "        if i==6 or i==7 or i==8:\n",
    "            axs[i].set_xlabel('Salinity [$g/kg$]')\n",
    "    m = plt.cm.ScalarMappable(cmap='bwr')\n",
    "    m.set_clim(minv, maxv)\n",
    "    cbar = fig.colorbar(m, cax=cax, orientation='vertical')\n",
    "    cbar.set_label('$^{\\circ}C$/decade') \n",
    "    # plt.savefig('../../Figures/Minimisation_9basins.png', dpi=300, bbox_inches='tight')\n",
    "    plt.show()"
   ]
  },
  {
   "cell_type": "code",
   "execution_count": 1204,
   "metadata": {},
   "outputs": [
    {
     "data": {
      "image/png": "[encoded data removed]",
      "text/plain": [
       "<Figure size 432x288 with 1 Axes>"
      ]
     },
     "metadata": {
      "needs_background": "light"
     },
     "output_type": "display_data"
    }
   ],
   "source": [
    "if globe == True:\n",
    "    minv, maxv = -.05,.05\n",
    "    cmap = plt.cm.bwr\n",
    "    norm = plt.Normalize(minv, maxv)\n",
    "    sm = plt.cm.ScalarMappable(cmap=cmap, norm=norm)\n",
    "    sm.set_array([])\n",
    "\n",
    "    plt.scatter(0.5*(flat_S_blc1+flat_S_blc2), 0.5*(flat_T_blc1+flat_T_blc2), 10, color=cmap(norm(10*T_Av_adj/dyrs)), zorder=100)\n",
    "    # plt.xlim(32,39)\n",
    "    # plt.ylim(-3,32)\n",
    "    plt.title('Global')\n",
    "    plt.grid(True)\n",
    "    plt.ylabel('Temperature [$^{\\circ}C$]')\n",
    "    plt.xlabel('Salinity [$g/kg$]')\n",
    "    plt.show()"
   ]
  },
  {
   "cell_type": "markdown",
   "metadata": {},
   "source": [
    "##### Surface flux and mixing vectors"
   ]
  },
  {
   "cell_type": "code",
   "execution_count": 1205,
   "metadata": {},
   "outputs": [
    {
     "name": "stdout",
     "output_type": "stream",
     "text": [
      "CPU times: user 3 µs, sys: 1e+03 ns, total: 4 µs\n",
      "Wall time: 7.87 µs\n"
     ]
    }
   ],
   "source": [
    "%%time\n",
    "if globe == False:\n",
    "    fig, axs = plt.subplots(3,3, figsize=(15,15), facecolor='w', edgecolor='k')\n",
    "    fig.subplots_adjust(hspace = .2, wspace=0.2)\n",
    "    axs = axs.ravel() \n",
    "\n",
    "    k=0\n",
    "    for i in range(np.array(Basins).size):\n",
    "        for j in range(256):\n",
    "            axs[i].scatter(flat_S_blc1[k]+35,flat_T_blc1[k],\\\n",
    "                   s=50,\\\n",
    "                  marker = 'o', facecolor='none', edgecolor='grey', label = 't2', zorder=100)\n",
    "            axs[i].scatter(flat_S_blc2[k]+35,flat_T_blc2[k],\\\n",
    "                   s=50,\\\n",
    "                  marker = 'v', facecolor='none', edgecolor='grey', label = 't1', zorder=100)\n",
    "            hyp_mix = np.sqrt(S_Av_mix[k]**2+T_Av_mix[k]**2)\n",
    "            hyp_adj = np.sqrt(S_Av_adj[k]**2+T_Av_adj[k]**2)\n",
    "            axs[i].arrow(flat_S_blc1[k]+35, flat_T_blc1[k], S_Av_mix[k], T_Av_mix[k], color='blue', \\\n",
    "                        length_includes_head = True, head_length=hyp_mix*.1, head_width = hyp_mix*.01, overhang = hyp_mix*.01, label = 'Mixing')\n",
    "            axs[i].arrow(flat_S_blc1[k]+35+S_Av_mix[k], flat_T_blc1[k]+T_Av_mix[k], S_Av_adj[k], T_Av_adj[k], color='red', \\\n",
    "                        length_includes_head = True, head_length=hyp_adj*.1, head_width = hyp_mix*.01, overhang = hyp_mix*.01, label = 'Surface Fluxes')\n",
    "            axs[i].set_xlim(30,40)\n",
    "            axs[i].set_ylim(-4,32)\n",
    "            axs[i].set_title(Basins[i])\n",
    "            k=k+1\n",
    "\n",
    "    # plt.savefig('../../Figures/Minimisation_vectors.png', dpi=300, bbox_inches='tight')\n",
    "    plt.show()"
   ]
  },
  {
   "cell_type": "code",
   "execution_count": 1206,
   "metadata": {},
   "outputs": [
    {
     "data": {
      "image/png": "[encoded data removed]",
      "text/plain": [
       "<Figure size 720x360 with 1 Axes>"
      ]
     },
     "metadata": {
      "needs_background": "light"
     },
     "output_type": "display_data"
    },
    {
     "name": "stdout",
     "output_type": "stream",
     "text": [
      "CPU times: user 173 ms, sys: 17.8 ms, total: 191 ms\n",
      "Wall time: 201 ms\n"
     ]
    }
   ],
   "source": [
    "%%time\n",
    "plt.figure(figsize=(10,5))\n",
    "if globe == True:\n",
    "      plt.scatter(flat_S_blc1,flat_T_blc1,\\\n",
    "            s=50,\\\n",
    "            marker = 'o', facecolor='none', edgecolor='black', label = 't2', zorder=100)\n",
    "      plt.scatter(flat_S_blc2,flat_T_blc2,\\\n",
    "            s=50,\\\n",
    "            marker = 'o', facecolor='none', edgecolor='magenta', label = 't1', zorder=100)\n",
    "      for i in range(flat_S_blc2.size):\n",
    "            if ~np.isnan(Tmixed[i]) | ~np.isnan(Smixed[i]):\n",
    "                  hyp_mix = np.sqrt(S_Av_mix[i]**2+T_Av_mix[i]**2)\n",
    "                  hyp_adj = np.sqrt(S_Av_adj[i]**2+T_Av_adj[i]**2)\n",
    "\n",
    "                  plt.annotate('', xy=(flat_S_blc1[i], flat_T_blc1[i]), xytext=(Smixed[i], Tmixed[i]),\n",
    "      arrowprops=dict(arrowstyle=\"<-\", color='blue'))\n",
    "                  plt.annotate('', xy=(Smixed[i], Tmixed[i]), xytext=(Smixed[i]+S_Av_adj[i], Tmixed[i]+T_Av_adj[i]),\n",
    "      arrowprops=dict(arrowstyle=\"<-\", color='red'))\n",
    "\n",
    "\n",
    "\n",
    "      plt.xlim(-1,5)\n",
    "      plt.ylim(-1,5)\n",
    "      plt.title('Global')\n",
    "      plt.grid()\n",
    "      plt.show()\n",
    "\n",
    "\n",
    "\n"
   ]
  },
  {
   "cell_type": "code",
   "execution_count": null,
   "metadata": {},
   "outputs": [
    {
     "name": "stdout",
     "output_type": "stream",
     "text": [
      "[0.  0.5 0.  0.5]\n"
     ]
    }
   ],
   "source": [
    "print(T_Av_adj)"
   ]
  },
  {
   "cell_type": "markdown",
   "metadata": {},
   "source": []
  },
  {
   "cell_type": "code",
   "execution_count": null,
   "metadata": {},
   "outputs": [],
   "source": []
  },
  {
   "cell_type": "code",
   "execution_count": null,
   "metadata": {},
   "outputs": [],
   "source": [
    "      plt.title('Global')\n",
    "      plt.grid()\n",
    "      # plt.savefig('../../Figures/Minimisation_vectors.png', dpi=300, bbox_inches='tight')\n",
    "      plt.show()"
   ]
  },
  {
   "cell_type": "code",
   "execution_count": 758,
   "metadata": {},
   "outputs": [
    {
     "name": "stdout",
     "output_type": "stream",
     "text": [
      "[ 0.25  0.25 -2.75 -2.75] [ 0.5 -1.5  0.5 -1.5]\n",
      "[0.  0.5 0.  2. ] [0.  0.5 0.  0.5]\n"
     ]
    }
   ],
   "source": [
    "print(S_Av_mix,T_Av_mix)\n",
    "print(S_Av_adj,T_Av_adj)"
   ]
  },
  {
   "cell_type": "code",
   "execution_count": 631,
   "metadata": {},
   "outputs": [
    {
     "data": {
      "image/png": "[encoded data removed]",
      "text/plain": [
       "<Figure size 432x288 with 1 Axes>"
      ]
     },
     "metadata": {
      "needs_background": "light"
     },
     "output_type": "display_data"
    }
   ],
   "source": [
    "plt.plot()\n",
    "plt.show()"
   ]
  },
  {
   "cell_type": "code",
   "execution_count": null,
   "metadata": {},
   "outputs": [],
   "source": []
  }
 ],
 "metadata": {
  "interpreter": {
   "hash": "aee8b7b246df8f9039afb4144a1f6fd8d2ca17a180786b69acc140d282b71a49"
  },
  "kernelspec": {
   "display_name": "Python 3.7.6 64-bit",
   "language": "python",
   "name": "python3"
  },
  "language_info": {
   "codemirror_mode": {
    "name": "ipython",
    "version": 3
   },
   "file_extension": ".py",
   "mimetype": "text/x-python",
   "name": "python",
   "nbconvert_exporter": "python",
   "pygments_lexer": "ipython3",
   "version": "3.7.6"
  },
  "orig_nbformat": 4
 },
 "nbformat": 4,
 "nbformat_minor": 2
}
