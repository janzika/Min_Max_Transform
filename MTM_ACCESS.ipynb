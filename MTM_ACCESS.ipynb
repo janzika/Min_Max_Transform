{
 "cells": [
  {
   "cell_type": "markdown",
   "metadata": {},
   "source": [
    "# <center>Minimum Transformation Method\n",
    "## <center>An inverse model for inferring surface fluxes and mixing from gridded hydrographic TS data, <br> by Taimoor Sohail and Jan D. Zika\n"
   ]
  },
  {
   "cell_type": "markdown",
   "metadata": {},
   "source": [
    "\n",
    "##### <center>We use an optimal transport method, minimzing a cost function which respects the volume and mass conservation, and the fundamental physics of mixing in TS space. <br>See also: Jan D Zika et al. (2021) [www.doi.org/10.1175/JCLI-D-20-0355.1 ] for a simpler version of this model which optimizes ocean circulation only.\n",
    "------------"
   ]
  },
  {
   "cell_type": "markdown",
   "metadata": {},
   "source": [
    "### __The code is laid out as follows:__\n",
    "#### A) Pre-processing\n",
    "i) Load necessary modules for computation \\\n",
    "ii) Define key parameters\n",
    "#### B) Load Data\n",
    "#### C) Define constraints\n",
    "i) Define Connectivity \\\n",
    "ii) Define weights\n",
    "#### D) Run optimisation\n",
    "#### E) Save Output\n",
    "---------"
   ]
  },
  {
   "cell_type": "markdown",
   "metadata": {},
   "source": [
    "## A) Pre-processing"
   ]
  },
  {
   "cell_type": "markdown",
   "metadata": {},
   "source": [
    "### i) Load necessary modules for computation"
   ]
  },
  {
   "cell_type": "code",
   "execution_count": 1,
   "metadata": {},
   "outputs": [],
   "source": [
    "## Module to run the minimisation\n",
    "from WM_Methods import MTM\n",
    "## Module to track runtime of cells and loops\n",
    "import time\n",
    "from tqdm.notebook import tqdm\n",
    "## Suppress warnings related to division by zero\n",
    "import warnings\n",
    "warnings.filterwarnings('ignore')\n",
    "## Module to load files and handle array computations\n",
    "import xarray as xr\n",
    "import numpy as np\n",
    "## Modules to plot outputs\n",
    "import matplotlib.pyplot as plt\n",
    "import matplotlib.patches as patches\n",
    "# Specify font properties for plots\n",
    "# from matplotlib import rc\n",
    "# font = {'family' : 'DejaVu Sans',\n",
    "#         'weight' : 'normal',\n",
    "#         'size'   : 16}\n",
    "\n",
    "# rc('font', **font)"
   ]
  },
  {
   "cell_type": "markdown",
   "metadata": {},
   "source": [
    "### ii) Define key parameters"
   ]
  },
  {
   "cell_type": "code",
   "execution_count": 2,
   "metadata": {},
   "outputs": [],
   "source": [
    "# Thermal expansion, haline contraction and true scale factor\n",
    "alph = 1.7657*10**-4\n",
    "bet = 7.5544*10**-4\n",
    "\n",
    "volnorming = 10**15 #normalising coeffcients\n",
    "areanorming = 10**12 #normalising coeffcients\n",
    "ST_scale=bet/alph\n",
    "\n",
    "# Establish basic constants \n",
    "yr2sec = 365.25*24*60*60\n",
    "Cp=4000\n",
    "rho=1024\n",
    "S0=35\n",
    "\n",
    "# If Surface fluxes are available\n",
    "SF = True\n",
    "# To run the optimisation twice \n",
    "Opt_twice = False\n",
    "\n",
    "# Range of years of which 'early' and 'late' are defined\n",
    "\n",
    "if SF:\n",
    "    ## ERA5 begins in 1979 so we have to change our \"early\" and \"late\" periods\n",
    "    dyrs = 500\n",
    "    init_early = 0\n",
    "    init_late = 0\n",
    "    Early_period = (np.array([init_early,init_early+dyrs]) - init_early)*12\n",
    "    Late_period = (np.array([init_late,init_late+dyrs]) - init_early)*12\n",
    "    range_yrs = init_late-init_early+1\n",
    "else:\n",
    "    dyrs = 9\n",
    "    init_early = 1979\n",
    "    init_late = 2006\n",
    "    Early_period = (np.array([init_early,init_early+dyrs]) - init_early)*12\n",
    "    Late_period = (np.array([init_late,init_late+dyrs]) - init_early)*12\n",
    "    range_yrs = init_late-init_early+1\n",
    "\n",
    "\n"
   ]
  },
  {
   "cell_type": "markdown",
   "metadata": {},
   "source": [
    "-----------\n",
    "## B) Load Data\n"
   ]
  },
  {
   "cell_type": "markdown",
   "metadata": {},
   "source": [
    "\n",
    "The data is presented as monthly T-S observations from EN4, from January 1970 to December 2014. The observations have already been binned via Binary Space Partitioning according to a specific criterion. Folowing Sohail et al. (TBD) the BSP partitioning occurs in an xyxyxyx order, shown to minimize variability in the temperature and salinity signals. \n",
    "\n"
   ]
  },
  {
   "cell_type": "code",
   "execution_count": 3,
   "metadata": {},
   "outputs": [
    {
     "name": "stdout",
     "output_type": "stream",
     "text": [
      "<xarray.DataArray (Time: 6000, Basin: 9, Depth: 128)>\n",
      "dask.array<sum-aggregate, shape=(6000, 9, 128), dtype=float64, chunksize=(6000, 9, 128), chunktype=numpy.ndarray>\n",
      "Coordinates:\n",
      "  * Time     (Time) float64 0.0 1.0 2.0 3.0 ... 5.997e+03 5.998e+03 5.999e+03\n",
      "  * Basin    (Basin) object 'Polar N. Atlantic' ... 'Southern Ocean'\n",
      "  * Depth    (Depth) int64 0 1 2 3 4 5 6 7 8 ... 120 121 122 123 124 125 126 127\n",
      "CPU times: user 5.37 s, sys: 232 ms, total: 5.6 s\n",
      "Wall time: 2.63 s\n"
     ]
    }
   ],
   "source": [
    "%%time\n",
    "if SF:\n",
    "    ACCESS_BSP_data = xr.open_mfdataset('BSP_processed/BSP_ACCESS*.nc')\n",
    "\n",
    "## Cubic dedrifting\n",
    "\n",
    "print(xr.polyval(ACCESS_BSP_data.Time,ACCESS_BSP_data.polyfit(dim='Time',deg=3).S_mean_polyfit_coefficients))\n",
    "SA_dedrifted = ACCESS_BSP_data.S_mean - xr.polyval(ACCESS_BSP_data.Time,ACCESS_BSP_data.polyfit(dim='Time',deg=3).S_mean_polyfit_coefficients)\\\n",
    "    + ACCESS_BSP_data.S_mean.where(xr.ufuncs.isfinite(ACCESS_BSP_data.S_mean))[0,:,:]\n",
    "CT_dedrifted = ACCESS_BSP_data.T_mean - xr.polyval(ACCESS_BSP_data.Time,ACCESS_BSP_data.polyfit(dim='Time',deg=3).T_mean_polyfit_coefficients)\\\n",
    "    + ACCESS_BSP_data.T_mean.where(xr.ufuncs.isfinite(ACCESS_BSP_data.T_mean))[0,:,:]\n",
    "V_dedrifted = ACCESS_BSP_data.V_sum - xr.polyval(ACCESS_BSP_data.Time,ACCESS_BSP_data.polyfit(dim='Time',deg=3).V_sum_polyfit_coefficients)\\\n",
    "    + ACCESS_BSP_data.V_sum.where(xr.ufuncs.isfinite(ACCESS_BSP_data.V_sum))[0,:,:]\n",
    "A_dedrifted = ACCESS_BSP_data.A_sum - xr.polyval(ACCESS_BSP_data.Time,ACCESS_BSP_data.polyfit(dim='Time',deg=3).A_sum_polyfit_coefficients)\\\n",
    "    + ACCESS_BSP_data.A_sum.where(xr.ufuncs.isfinite(ACCESS_BSP_data.A_sum))[0,:,:]\n",
    "hfds_dedrifted = ACCESS_BSP_data.hfds_sum - xr.polyval(ACCESS_BSP_data.Time,ACCESS_BSP_data.polyfit(dim='Time',deg=3).hfds_sum_polyfit_coefficients)\\\n",
    "    + ACCESS_BSP_data.hfds_sum.where(xr.ufuncs.isfinite(ACCESS_BSP_data.hfds_sum))[0,:,:]\n",
    "wfo_dedrifted = ACCESS_BSP_data.wfo_sum - xr.polyval(ACCESS_BSP_data.Time,ACCESS_BSP_data.polyfit(dim='Time',deg=3).wfo_sum_polyfit_coefficients)\\\n",
    "    + ACCESS_BSP_data.wfo_sum.where(xr.ufuncs.isfinite(ACCESS_BSP_data.wfo_sum))[0,:,:]"
   ]
  },
  {
   "cell_type": "code",
   "execution_count": 4,
   "metadata": {},
   "outputs": [
    {
     "data": {
      "image/png": "[encoded data removed]",
      "text/plain": [
       "<Figure size 432x288 with 1 Axes>"
      ]
     },
     "metadata": {
      "needs_background": "light"
     },
     "output_type": "display_data"
    },
    {
     "data": {
      "text/plain": [
       "[<matplotlib.lines.Line2D at 0x7fc3df403a10>]"
      ]
     },
     "execution_count": 4,
     "metadata": {},
     "output_type": "execute_result"
    },
    {
     "data": {
      "image/png": "[encoded data removed]",
      "text/plain": [
       "<Figure size 432x288 with 1 Axes>"
      ]
     },
     "metadata": {
      "needs_background": "light"
     },
     "output_type": "display_data"
    }
   ],
   "source": [
    "ACCESS_BSP_data.S_mean.isel(Basin=3,Depth=41).plot()\n",
    "xr.polyval(ACCESS_BSP_data.Time,ACCESS_BSP_data.polyfit(dim='Time',deg=3).S_mean_polyfit_coefficients).isel(Basin=3,Depth=41).plot()\n",
    "SA_dedrifted.isel(Basin=3,Depth=41).plot()\n",
    "plt.xlim(4500,4800)\n",
    "plt.ylim(34.5,34.75)\n",
    "plt.show()\n",
    "plt.plot(ACCESS_BSP_data.S_mean.where(xr.ufuncs.isfinite(ACCESS_BSP_data.S_mean)).values[:,3,41], '.')"
   ]
  },
  {
   "cell_type": "code",
   "execution_count": 5,
   "metadata": {},
   "outputs": [],
   "source": [
    "# if SF:\n",
    "#     ## Early Period\n",
    "#     Part_early = ACCESS_BSP_data.Partitions.isel(Time=slice(Early_period[0],Early_period[1])).mean('Time')\n",
    "#     SA_early =  SA_dedrifted.isel(Time=slice(Early_period[0],Early_period[1])).mean('Time')\n",
    "#     CT_early = CT_dedrifted.isel(Time=slice(Early_period[0],Early_period[1])).mean('Time')\n",
    "#     V_early = V_dedrifted.isel(Time=slice(Early_period[0],Early_period[1])).mean('Time')\n",
    "#     A_early = A_dedrifted.isel(Time=slice(Early_period[0],Early_period[1])).mean('Time')\n",
    "\n",
    "#     ## Late Period\n",
    "#     Part_late = ACCESS_BSP_data.Partitions.isel(Time=slice(Late_period[0],Late_period[1])).mean('Time')\n",
    "#     SA_late =  SA_dedrifted.isel(Time=slice(Late_period[0],Late_period[1])).mean('Time')\n",
    "#     CT_late = CT_dedrifted.isel(Time=slice(Late_period[0],Late_period[1])).mean('Time')\n",
    "#     V_late = V_dedrifted.isel(Time=slice(Late_period[0],Late_period[1])).mean('Time')\n",
    "#     A_late = A_dedrifted.isel(Time=slice(Late_period[0],Late_period[1])).mean('Time')\n",
    "\n",
    "#     Basins = ACCESS_BSP_data.Basin.values\n",
    "\n",
    "if SF:\n",
    "    ## Early Period\n",
    "    Part_early = ACCESS_BSP_data.Partitions.isel(Time=slice(Early_period[0],Early_period[1])).mean('Time')\n",
    "    SA_early =  ACCESS_BSP_data.S_mean.isel(Time=slice(Early_period[0],Early_period[1])).mean('Time')\n",
    "    CT_early = ACCESS_BSP_data.T_mean.isel(Time=slice(Early_period[0],Early_period[1])).mean('Time')\n",
    "    V_early = ACCESS_BSP_data.V_sum.isel(Time=slice(Early_period[0],Early_period[1])).mean('Time')\n",
    "    A_early = ACCESS_BSP_data.A_sum.isel(Time=slice(Early_period[0],Early_period[1])).mean('Time')\n",
    "\n",
    "    ## Late Period\n",
    "    Part_late = ACCESS_BSP_data.Partitions.isel(Time=slice(Late_period[0],Late_period[1])).mean('Time')\n",
    "    SA_late =  ACCESS_BSP_data.S_mean.isel(Time=slice(Late_period[0],Late_period[1])).mean('Time')\n",
    "    CT_late = ACCESS_BSP_data.T_mean.isel(Time=slice(Late_period[0],Late_period[1])).mean('Time')\n",
    "    V_late = ACCESS_BSP_data.V_sum.isel(Time=slice(Late_period[0],Late_period[1])).mean('Time')\n",
    "    A_late = ACCESS_BSP_data.A_sum.isel(Time=slice(Late_period[0],Late_period[1])).mean('Time')\n",
    "\n",
    "    Basins = ACCESS_BSP_data.Basin.values"
   ]
  },
  {
   "cell_type": "code",
   "execution_count": 6,
   "metadata": {},
   "outputs": [],
   "source": [
    "## Load ERA5 data here, if provided\n",
    "if SF:\n",
    "    time = ACCESS_BSP_data.Time.values\n",
    "    ## Calculate the time-mean hfds and wfo\n",
    "    # dhfds = hfds_dedrifted.mean('Time') # units: W\n",
    "    # dwfo = wfo_dedrifted.mean('Time') # units: kg/s\n",
    "    dhfds = ACCESS_BSP_data.hfds_sum.mean('Time') # units: W\n",
    "    dwfo = ACCESS_BSP_data.wfo_sum.mean('Time') # units: kg/s\n",
    "\n",
    "    ## Convert dflux to equivalent T or S change\n",
    "    dT_hfds = dhfds/(Cp*rho*V_early)*yr2sec # units: C/yr\n",
    "    dVol_wfo = -dwfo/rho*yr2sec\n",
    "    dS_wfo = -dwfo*S0/(rho*V_early)*yr2sec # units: g/kg/yr\n",
    "    "
   ]
  },
  {
   "cell_type": "code",
   "execution_count": 7,
   "metadata": {},
   "outputs": [],
   "source": [
    "\n",
    "# Flatten the early and late variables to a 1D array\n",
    "Vol_1 = V_early.values.flatten()\n",
    "Vol_2 = V_late.values.flatten()\n",
    "S_1 = SA_early.values.flatten()-S0 # Remove reference salinity S0\n",
    "S_2 = SA_late.values.flatten()-S0 # Remove reference salinity S0\n",
    "T_1 = CT_early.values.flatten()\n",
    "T_2 = CT_late.values.flatten()\n",
    "A_1 = A_early.values.flatten()\n",
    "A_2 = A_late.values.flatten()\n",
    "\n",
    "# Do the same for basin index\n",
    "Basin_1 = np.zeros_like(V_early)\n",
    "Basin_2 = np.zeros_like(V_early)\n",
    "Basin_names = []\n",
    "for i in range(np.array(Basins).size):\n",
    "    Basin_1[i,:] = i\n",
    "    Basin_2[i,:] = i\n",
    "    for j in range(V_early.shape[-1]):\n",
    "        #... and for basin name\n",
    "        Basin_names.append(Basins[i])\n",
    "\n",
    "Basin_1_inds = Basin_1.flatten()\n",
    "Basin_2_inds = Basin_2.flatten()\n",
    "\n",
    "#... and for the edges of the BSP bins\n",
    "## Here we calculate the mean TS edges averaged over both early and late times\n",
    "S_start = (0.5*(Part_early.values[:,:,0]+Part_late.values[:,:,0])).flatten()-S0 # Remove reference salinity S0\n",
    "S_end = (0.5*(Part_early.values[:,:,1]+Part_late.values[:,:,1])).flatten()-S0 # Remove reference salinity S0\n",
    "T_start = (0.5*(Part_early.values[:,:,2]+Part_late.values[:,:,2])).flatten()\n",
    "T_end = (0.5*(Part_early.values[:,:,3]+Part_late.values[:,:,3])).flatten()\n",
    "\n",
    "# Any NaNs are zeroed out\n",
    "S_1[np.isnan(S_1)] = 0\n",
    "S_2[np.isnan(S_2)] = 0\n",
    "T_1[np.isnan(T_1)] = 0\n",
    "T_2[np.isnan(T_2)] = 0"
   ]
  },
  {
   "cell_type": "code",
   "execution_count": 8,
   "metadata": {},
   "outputs": [],
   "source": [
    "## IF SURFACE FLUXES ARE PROVIDED -- add here ##\n",
    "if SF:\n",
    "    S_pre = SA_early.values.flatten()-S0\n",
    "    # S_1 = S_pre+dS_wfo.values.flatten()\n",
    "    ## Salinity is a function of the volume flux due to WC change\n",
    "    S_1 = ((SA_early.values.flatten()*V_early.values.flatten())/(V_early.values.flatten()+dVol_wfo.values.flatten()))-S0\n",
    "    T_pre = CT_early.values.flatten()\n",
    "    T_1 = CT_early.values.flatten()+dT_hfds.values.flatten()\n",
    "    ## Volume is a function of the volume flux due to WC change\n",
    "    Vol_1 = V_early.values.flatten()+dVol_wfo.values.flatten()\n",
    "    ## We change V2 by the total volume imbalance (proportional to the initial volume of the bin)\n",
    "    Vol_2 = V_late.values.flatten()-(V_late.values.flatten()/(V_late.values.flatten()).sum())*((V_late.values.flatten()).sum()-(V_early.values.flatten()+dVol_wfo.values.flatten()).sum())\n",
    "    \n",
    "    S_1[np.isnan(S_1)] = 0\n",
    "    T_1[np.isnan(T_1)] = 0\n",
    "    S_1[~np.isfinite(S_1)] = 0\n",
    "    T_1[~np.isfinite(T_1)] = 0"
   ]
  },
  {
   "cell_type": "code",
   "execution_count": 9,
   "metadata": {},
   "outputs": [
    {
     "data": {
      "image/png": "[encoded data removed]",
      "text/plain": [
       "<Figure size 432x288 with 1 Axes>"
      ]
     },
     "metadata": {
      "needs_background": "light"
     },
     "output_type": "display_data"
    },
    {
     "data": {
      "image/png": "[encoded data removed]",
      "text/plain": [
       "<Figure size 432x288 with 1 Axes>"
      ]
     },
     "metadata": {
      "needs_background": "light"
     },
     "output_type": "display_data"
    },
    {
     "data": {
      "text/plain": [
       "array([], shape=(0, 2), dtype=int64)"
      ]
     },
     "execution_count": 9,
     "metadata": {},
     "output_type": "execute_result"
    }
   ],
   "source": [
    "plt.plot(ACCESS_BSP_data.S_mean.isel(Time=slice(Early_period[0],Early_period[1])).mean('Time').values.flatten())\n",
    "plt.show()\n",
    "plt.plot(SA_early.values.flatten())\n",
    "plt.show()\n",
    "\n",
    "np.argwhere(SA_early.values>900)"
   ]
  },
  {
   "cell_type": "code",
   "execution_count": 10,
   "metadata": {},
   "outputs": [],
   "source": [
    "## Here, we create the tracers and volumes matrices, which will be fed into the MTM function\n",
    "\n",
    "volumes = np.stack((Vol_1, Vol_2), axis=0)/volnorming # Shape: [2 x N]\n",
    "\n",
    "salinities = np.stack((S_1, S_2), axis=0)\n",
    "temps = np.stack((T_1, T_2), axis=0)\n",
    "\n",
    "tracers = np.stack((salinities, temps),axis=1) # Shape: [2 x M x N], where M = 2 for just T and S, and M>2 for T,S+other tracers"
   ]
  },
  {
   "cell_type": "code",
   "execution_count": 11,
   "metadata": {},
   "outputs": [
    {
     "name": "stdout",
     "output_type": "stream",
     "text": [
      "Total number of bins = 1152\n"
     ]
    }
   ],
   "source": [
    "print('Total number of bins =', int(Vol_1.shape[0]))\n",
    "N = int(Vol_1.shape[0])"
   ]
  },
  {
   "cell_type": "markdown",
   "metadata": {},
   "source": [
    "---------------\n",
    "## C) Define Constraints"
   ]
  },
  {
   "cell_type": "markdown",
   "metadata": {},
   "source": [
    "### i) Define Connectivity"
   ]
  },
  {
   "cell_type": "markdown",
   "metadata": {},
   "source": [
    "We must define whether a BSP bin is allowed to transport volume to another BSP bin. In the simplest case, all bins are allowed to transport to one another - but this yields nonphysical transport across vast distances and TS bounds.\n",
    "To improve on this, two connectivity constraints are used: \n",
    "1) Are the basins adjacent? This is defined via the connectivity array, below\n",
    "2) If YES, do the BSP bins have overlapping (or the same) TS boundaries?\\\n",
    "If yes, the bins are connected. If no, they are not.\n"
   ]
  },
  {
   "cell_type": "code",
   "execution_count": 12,
   "metadata": {},
   "outputs": [],
   "source": [
    "# Array defining the connection between the 9 basins;\n",
    "# 1 = connected, 0 = disconnected\n",
    "connectivity_array = np.zeros((Basins.size,Basins.size))\n",
    "\n",
    "connectivity_array[0,:] = [1, 1, 0, 0, 0, 0, 0, 0, 0]\n",
    "connectivity_array[1,:] = [1, 1, 1, 0, 0, 0, 0, 0, 0]\n",
    "connectivity_array[2,:] = [0, 1, 1, 1, 0, 0, 0, 0, 0]\n",
    "connectivity_array[3,:] = [0, 0, 1, 1, 0, 0, 0, 0, 1]\n",
    "connectivity_array[4,:] = [0, 0, 0, 0, 1, 0, 1, 0, 1]\n",
    "connectivity_array[5,:] = [0, 0, 0, 0, 0, 1, 1, 0, 1]\n",
    "connectivity_array[6,:] = [0, 0, 0, 0, 1, 1, 1, 1, 0]\n",
    "connectivity_array[7,:] = [0, 0, 0, 0, 0, 0, 1, 1, 0]\n",
    "connectivity_array[8,:] = [0, 0, 0, 1, 1, 1, 0, 0, 1]\n",
    "\n",
    "# Array defining the transport between the 9 basins;\n",
    "# +/-1 = connected (North = +, East = +), 0 = no constraint\n",
    "transport_array = np.zeros((Basins.size,Basins.size))\n",
    "transport_array2 = np.zeros((Basins.size,Basins.size))\n",
    "\n",
    "transport_array[4,:] = [0, 0, 0, 0, 0, 0, 1, 0, 0]\n",
    "transport_array[6,:] = [0, 0, 0, 0, -1, 0, 0, 0, 0]\n",
    "\n",
    "transport_array2[0,:] = [0, 1, 0, 0, 0, 0, 0, 0, 0]"
   ]
  },
  {
   "cell_type": "code",
   "execution_count": 13,
   "metadata": {},
   "outputs": [
    {
     "data": {
      "application/vnd.jupyter.widget-view+json": {
       "model_id": "f04e99ec84fa426181a74a93e484d491",
       "version_major": 2,
       "version_minor": 0
      },
      "text/plain": [
       "  0%|          | 0/1152 [00:00<?, ?it/s]"
      ]
     },
     "metadata": {},
     "output_type": "display_data"
    }
   ],
   "source": [
    "# Define whether a bin is connected to every other bin\n",
    "# The two constraints used are: are the basins adjacent? \n",
    "# If yes, are the bin indices the same? \n",
    "# If yes, the bins are connected; if no, they are not connected. \n",
    "connected = np.zeros((Vol_1.size, Vol_1.size))\n",
    "trans_big = np.zeros((Vol_1.size, Vol_1.size))\n",
    "trans_big2 = np.zeros((Vol_1.size, Vol_1.size))\n",
    "\n",
    "for i in tqdm(range(Vol_1.size)):\n",
    "    for j in range(Vol_2.size):\n",
    "        trans_big[i,j] = transport_array[int(Basin_1_inds[i]), int(Basin_2_inds[j])]\n",
    "        trans_big2[i,j] = transport_array2[int(Basin_1_inds[i]), int(Basin_2_inds[j])]\n",
    "        if connectivity_array[int(Basin_1_inds[i]), int(Basin_2_inds[j])]>0:\n",
    "                if Basin_names[i] == Basin_names[j]:\n",
    "                    connected[i,j] = connectivity_array[int(Basin_1_inds[i]), int(Basin_2_inds[j])]\n",
    "                elif S_start[i]==S_start[j] and T_start[i]==T_start[j]:\n",
    "                    connected[i,j] = connectivity_array[int(Basin_1_inds[i]), int(Basin_2_inds[j])]\n",
    "\n",
    "constraints = connected # Shape: An [N x N] matrix\n",
    "\n",
    "transport = trans_big\n",
    "transport2 = trans_big2"
   ]
  },
  {
   "cell_type": "markdown",
   "metadata": {},
   "source": [
    "### ii) Define Weights"
   ]
  },
  {
   "cell_type": "code",
   "execution_count": 14,
   "metadata": {},
   "outputs": [],
   "source": [
    "## We create a weight matrix\n",
    "# Note that the code is very sensitive to the weights we input, and may break (TO BE DEVELOPED)\n",
    "offset = 10**10 # To prevent divide by zero errors\n",
    "# Mask where 1/A = inf\n",
    "# area_weight = np.ones_like(A_2)\n",
    "area_weight = np.log10(areanorming)/(np.log10(A_2))\n",
    "area_weight[area_weight==0] = 10\n",
    "# print(ST_scale)\n",
    "weights = np.stack((ST_scale*area_weight,area_weight), axis=0) # Shape: An [M x N] matrix\n",
    "# weights = np.ones_like(weights)"
   ]
  },
  {
   "cell_type": "code",
   "execution_count": 15,
   "metadata": {},
   "outputs": [
    {
     "name": "stdout",
     "output_type": "stream",
     "text": [
      "-70.31998478189885\n",
      "0.0\n",
      "0.0\n",
      "-1.0\n",
      "0.0\n"
     ]
    }
   ],
   "source": [
    "print(np.min(tracers))\n",
    "print(np.min(volumes))\n",
    "print(np.min(constraints))\n",
    "print(np.min(transport))\n",
    "print(np.min(A_2))"
   ]
  },
  {
   "cell_type": "markdown",
   "metadata": {},
   "source": [
    "-----------------\n",
    "## D) Run Optimisation"
   ]
  },
  {
   "cell_type": "code",
   "execution_count": 16,
   "metadata": {},
   "outputs": [
    {
     "name": "stdout",
     "output_type": "stream",
     "text": [
      "===============================================================================\n",
      "                                     CVXPY                                     \n",
      "                                    v1.1.13                                    \n",
      "===============================================================================\n",
      "(CVXPY) Jul 01 04:56:31 PM: Your problem has 149760 variables, 3 constraints, and 0 parameters.\n",
      "(CVXPY) Jul 01 04:56:34 PM: It is compliant with the following grammars: DCP, DQCP\n",
      "(CVXPY) Jul 01 04:56:34 PM: (If you need to solve this problem multiple times, but with different data, consider using parameters.)\n",
      "(CVXPY) Jul 01 04:56:34 PM: CVXPY will first compile your problem; then, it will invoke a numerical solver to obtain a solution.\n",
      "-------------------------------------------------------------------------------\n",
      "                                  Compilation                                  \n",
      "-------------------------------------------------------------------------------\n",
      "(CVXPY) Jul 01 04:56:34 PM: Compiling problem (target solver=MOSEK).\n",
      "(CVXPY) Jul 01 04:56:34 PM: Reduction chain: Dcp2Cone -> CvxAttr2Constr -> ConeMatrixStuffing -> MOSEK\n",
      "(CVXPY) Jul 01 04:56:34 PM: Applying reduction Dcp2Cone\n",
      "(CVXPY) Jul 01 04:56:34 PM: Applying reduction CvxAttr2Constr\n",
      "(CVXPY) Jul 01 04:56:34 PM: Applying reduction ConeMatrixStuffing\n",
      "(CVXPY) Jul 01 04:57:01 PM: Applying reduction MOSEK\n",
      "(CVXPY) Jul 01 04:57:01 PM: Finished problem compilation (took 2.717e+01 seconds).\n",
      "-------------------------------------------------------------------------------\n",
      "                                Numerical solver                               \n",
      "-------------------------------------------------------------------------------\n",
      "(CVXPY) Jul 01 04:57:01 PM: Invoking solver MOSEK  to obtain a solution.\n",
      "\n",
      "\n",
      "MOSEK warning 500: The license expires in 4 days.\n",
      "MOSEK warning 500: The license expires in 4 days.\n",
      "Problem\n",
      "  Name                   :                 \n",
      "  Objective sense        : max             \n",
      "  Type                   : CONIC (conic optimization problem)\n",
      "  Constraints            : 149761          \n",
      "  Cones                  : 1               \n",
      "  Scalar variables       : 154371          \n",
      "  Matrix variables       : 0               \n",
      "  Integer variables      : 0               \n",
      "\n",
      "Optimizer started.\n",
      "Problem\n",
      "  Name                   :                 \n",
      "  Objective sense        : max             \n",
      "  Type                   : CONIC (conic optimization problem)\n",
      "  Constraints            : 149761          \n",
      "  Cones                  : 1               \n",
      "  Scalar variables       : 154371          \n",
      "  Matrix variables       : 0               \n",
      "  Integer variables      : 0               \n",
      "\n",
      "Optimizer  - threads                : 12              \n",
      "Optimizer  - solved problem         : the dual        \n",
      "Optimizer  - Constraints            : 3407\n",
      "Optimizer  - Cones                  : 1\n",
      "Optimizer  - Scalar variables       : 89050             conic                  : 1706            \n",
      "Optimizer  - Semi-definite variables: 0                 scalarized             : 0               \n",
      "Factor     - setup time             : 0.09              dense det. time        : 0.00            \n",
      "Factor     - ML order time          : 0.03              GP order time          : 0.00            \n",
      "Factor     - nonzeros before factor : 2.70e+05          after factor           : 4.31e+05        \n",
      "Factor     - dense dim.             : 2                 flops                  : 6.82e+07        \n",
      "ITE PFEAS    DFEAS    GFEAS    PRSTATUS   POBJ              DOBJ              MU       TIME  \n",
      "0   0.0e+00  7.8e+01  2.0e+00  0.00e+00   -1.000000000e+00  0.000000000e+00   1.0e+00  0.43  \n",
      "1   2.0e-15  6.7e+01  1.6e+00  2.52e+00   -6.147666560e-01  5.202275506e-02   8.6e-01  0.50  \n",
      "2   1.8e-15  4.4e+01  6.2e-01  2.62e+00   -2.823633062e-01  1.397340000e-02   5.7e-01  0.55  \n",
      "3   3.6e-15  3.8e+01  3.7e-01  3.62e+00   -1.747237889e-01  5.021282869e-03   4.9e-01  0.60  \n",
      "4   4.4e-14  3.3e+01  2.6e-01  2.95e+00   -1.048000509e-01  1.225697600e-02   4.2e-01  0.65  \n",
      "5   3.0e-14  2.2e+01  1.3e-01  2.44e+00   -2.756349967e-02  2.508686271e-02   2.8e-01  0.70  \n",
      "6   1.9e-13  1.2e+01  5.1e-02  1.79e+00   1.210611693e-02   3.572063341e-02   1.6e-01  0.75  \n",
      "7   7.4e-14  6.5e+00  1.9e-02  1.24e+00   5.455158140e-02   6.713757173e-02   8.4e-02  0.80  \n",
      "8   2.5e-12  3.0e+00  6.7e-03  9.01e-01   1.521834034e-01   1.588200968e-01   3.9e-02  0.84  \n",
      "9   3.3e-11  2.3e+00  4.9e-03  5.02e-01   2.980881963e-01   3.036910221e-01   3.0e-02  0.90  \n",
      "10  1.5e-11  1.9e+00  4.1e-03  2.39e-01   3.556270887e-01   3.605015321e-01   2.4e-02  0.95  \n",
      "11  1.8e-11  1.8e+00  3.7e-03  2.71e-01   7.390616676e-01   7.438949090e-01   2.3e-02  1.00  \n",
      "12  3.1e-11  1.2e+00  2.7e-03  5.87e-02   8.024965599e-01   8.058912782e-01   1.5e-02  1.05  \n",
      "13  2.8e-11  9.8e-01  1.8e-03  2.38e-01   2.799787451e+00   2.803465908e+00   1.3e-02  1.10  \n",
      "14  2.9e-11  4.7e-01  9.7e-04  -1.06e-01  3.584319161e+00   3.585539182e+00   6.1e-03  1.15  \n",
      "15  2.1e-11  2.9e-01  4.1e-04  4.51e-01   7.663883575e+00   7.665658070e+00   3.8e-03  1.20  \n",
      "16  8.7e-12  1.5e-01  1.7e-04  3.96e-01   1.046727514e+01   1.046840028e+01   2.0e-03  1.25  \n",
      "17  1.9e-12  8.5e-02  7.3e-05  5.45e-01   1.299388007e+01   1.299460025e+01   1.1e-03  1.30  \n",
      "18  5.2e-12  6.4e-02  4.9e-05  6.62e-01   1.413500821e+01   1.413559430e+01   8.3e-04  1.35  \n",
      "19  9.6e-12  4.3e-02  2.7e-05  7.33e-01   1.559340833e+01   1.559383737e+01   5.5e-04  1.40  \n",
      "20  1.7e-11  3.4e-02  2.0e-05  8.33e-01   1.628796490e+01   1.628832376e+01   4.4e-04  1.45  \n",
      "21  2.2e-11  3.1e-02  1.7e-05  8.68e-01   1.660739203e+01   1.660771913e+01   4.0e-04  1.50  \n",
      "22  3.3e-11  2.3e-02  1.0e-05  8.86e-01   1.740604033e+01   1.740628801e+01   2.9e-04  1.55  \n",
      "23  4.9e-11  1.7e-02  6.7e-06  9.19e-01   1.802157621e+01   1.802176538e+01   2.2e-04  1.60  \n",
      "24  6.6e-11  1.2e-02  4.1e-06  9.25e-01   1.861122348e+01   1.861136191e+01   1.5e-04  1.65  \n",
      "25  7.9e-11  9.6e-03  2.9e-06  9.25e-01   1.895795138e+01   1.895806368e+01   1.2e-04  1.70  \n",
      "26  8.7e-11  8.7e-03  2.5e-06  9.40e-01   1.909369056e+01   1.909379315e+01   1.1e-04  1.75  \n",
      "27  9.8e-11  6.2e-03  1.5e-06  9.54e-01   1.950335869e+01   1.950343294e+01   8.0e-05  1.79  \n",
      "28  1.3e-10  3.8e-03  7.2e-07  1.00e+00   1.991262667e+01   1.991267369e+01   4.9e-05  1.85  \n",
      "29  1.7e-10  3.1e-03  5.3e-07  1.06e+00   2.004806792e+01   2.004810626e+01   4.0e-05  1.90  \n",
      "30  2.5e-10  2.2e-03  3.1e-07  1.08e+00   2.021527034e+01   2.021529773e+01   2.9e-05  1.95  \n",
      "31  4.3e-10  1.3e-03  1.4e-07  1.09e+00   2.040036660e+01   2.040038240e+01   1.7e-05  2.00  \n",
      "32  5.0e-10  1.2e-03  1.2e-07  1.10e+00   2.042105551e+01   2.042107002e+01   1.6e-05  2.05  \n",
      "33  8.2e-10  8.0e-04  6.4e-08  1.10e+00   2.050268345e+01   2.050269300e+01   1.0e-05  2.10  \n",
      "34  1.1e-09  6.8e-04  5.0e-08  1.10e+00   2.052652180e+01   2.052652985e+01   8.8e-06  2.15  \n",
      "35  1.6e-09  5.1e-04  3.2e-08  1.09e+00   2.055962590e+01   2.055963184e+01   6.5e-06  2.20  \n",
      "36  2.1e-09  4.3e-04  2.5e-08  1.08e+00   2.057434709e+01   2.057435211e+01   5.5e-06  2.25  \n",
      "37  3.0e-09  3.2e-04  1.6e-08  1.07e+00   2.059451311e+01   2.059451688e+01   4.2e-06  2.30  \n",
      "38  4.6e-09  2.1e-04  8.4e-09  1.06e+00   2.061535231e+01   2.061535478e+01   2.8e-06  2.35  \n",
      "39  5.8e-09  1.8e-04  6.5e-09  1.05e+00   2.062126713e+01   2.062126922e+01   2.3e-06  2.40  \n",
      "40  6.8e-09  1.6e-04  5.4e-09  1.04e+00   2.062522396e+01   2.062522579e+01   2.0e-06  2.45  \n",
      "41  9.1e-09  1.2e-04  3.7e-09  1.03e+00   2.063138831e+01   2.063138975e+01   1.6e-06  2.50  \n",
      "42  9.7e-09  1.2e-04  3.5e-09  1.04e+00   2.063226686e+01   2.063226823e+01   1.5e-06  2.55  \n",
      "43  1.2e-08  9.5e-05  2.4e-09  1.03e+00   2.063646981e+01   2.063647091e+01   1.2e-06  2.60  \n",
      "44  1.6e-08  7.4e-05  1.7e-09  1.03e+00   2.064001910e+01   2.064001997e+01   9.6e-07  2.65  \n",
      "45  2.0e-08  6.2e-05  1.3e-09  1.02e+00   2.064232024e+01   2.064232096e+01   7.9e-07  2.69  \n",
      "46  2.2e-08  5.5e-05  1.1e-09  1.02e+00   2.064344105e+01   2.064344170e+01   7.1e-07  2.74  \n",
      "47  2.6e-08  4.9e-05  9.2e-10  1.01e+00   2.064452366e+01   2.064452424e+01   6.4e-07  2.79  \n",
      "48  2.7e-08  4.9e-05  9.0e-10  1.01e+00   2.064466934e+01   2.064466991e+01   6.3e-07  2.84  \n",
      "49  2.7e-08  4.8e-05  8.8e-10  1.01e+00   2.064476291e+01   2.064476347e+01   6.2e-07  2.89  \n",
      "50  3.7e-08  3.5e-05  5.4e-10  1.01e+00   2.064710629e+01   2.064710669e+01   4.5e-07  2.93  \n",
      "51  5.0e-08  2.5e-05  3.4e-10  1.00e+00   2.064872551e+01   2.064872581e+01   3.3e-07  2.99  \n",
      "52  5.3e-08  2.4e-05  3.2e-10  1.00e+00   2.064889466e+01   2.064889494e+01   3.1e-07  3.04  \n",
      "53  7.1e-08  1.9e-05  2.1e-10  1.00e+00   2.064981931e+01   2.064981953e+01   2.4e-07  3.09  \n",
      "54  8.6e-08  1.6e-05  1.7e-10  1.01e+00   2.065031389e+01   2.065031408e+01   2.1e-07  3.14  \n",
      "55  1.2e-07  1.2e-05  1.0e-10  1.01e+00   2.065105846e+01   2.065105860e+01   1.5e-07  3.19  \n",
      "56  1.5e-07  9.3e-06  7.3e-11  1.01e+00   2.065144816e+01   2.065144827e+01   1.2e-07  3.24  \n",
      "57  2.0e-07  7.5e-06  5.2e-11  1.01e+00   2.065175610e+01   2.065175619e+01   9.5e-08  3.29  \n",
      "58  2.9e-07  5.1e-06  2.9e-11  1.01e+00   2.065213465e+01   2.065213471e+01   6.4e-08  3.34  \n",
      "59  3.7e-07  4.3e-06  2.2e-11  1.01e+00   2.065224571e+01   2.065224576e+01   5.5e-08  3.39  \n",
      "60  5.0e-07  3.6e-06  1.6e-11  1.01e+00   2.065236883e+01   2.065236887e+01   4.4e-08  3.43  \n",
      "61  6.2e-07  3.0e-06  1.2e-11  1.01e+00   2.065246217e+01   2.065246220e+01   3.6e-08  3.48  \n",
      "62  8.6e-07  2.6e-06  7.4e-12  1.01e+00   2.065257268e+01   2.065257271e+01   2.6e-08  3.53  \n",
      "63  9.0e-07  2.4e-06  7.2e-12  9.81e-01   2.065257969e+01   2.065257972e+01   2.6e-08  3.58  \n",
      "64  1.1e-06  2.0e-06  5.6e-12  1.01e+00   2.065261902e+01   2.065261904e+01   2.2e-08  3.68  \n",
      "65  1.3e-06  1.8e-06  4.6e-12  9.99e-01   2.065264928e+01   2.065264930e+01   1.9e-08  3.72  \n",
      "66  1.6e-06  1.6e-06  3.5e-12  9.99e-01   2.065268112e+01   2.065268113e+01   1.6e-08  3.76  \n",
      "67  2.2e-06  1.4e-06  2.2e-12  1.00e+00   2.065272331e+01   2.065272332e+01   1.2e-08  3.80  \n",
      "68  2.5e-06  1.3e-06  2.0e-12  1.00e+00   2.065273324e+01   2.065273325e+01   1.1e-08  3.85  \n",
      "69  1.7e-06  8.4e-07  1.0e-12  1.00e+00   2.065276999e+01   2.065277000e+01   7.1e-09  3.95  \n",
      "Optimizer terminated. Time: 4.05    \n",
      "\n",
      "\n",
      "Interior-point solution summary\n",
      "  Problem status  : PRIMAL_AND_DUAL_FEASIBLE\n",
      "  Solution status : OPTIMAL\n",
      "  Primal.  obj: 2.0652769987e+01    nrm: 8e+01    Viol.  con: 8e-15    var: 6e-09    cones: 0e+00  \n",
      "  Dual.    obj: 2.0652769998e+01    nrm: 8e+01    Viol.  con: 0e+00    var: 1e-05    cones: 0e+00  \n",
      "-------------------------------------------------------------------------------\n",
      "                                    Summary                                    \n",
      "-------------------------------------------------------------------------------\n",
      "(CVXPY) Jul 01 04:57:06 PM: Problem status: optimal\n",
      "(CVXPY) Jul 01 04:57:06 PM: Optimal value: 2.065e+01\n",
      "(CVXPY) Jul 01 04:57:06 PM: Compilation took 2.717e+01 seconds\n",
      "(CVXPY) Jul 01 04:57:06 PM: Solver (including time spent in interface) took 4.394e+00 seconds\n",
      "Optimal value: 20.652761695201065\n",
      "Variable var0: value [ 2.05118793e+00  2.06466172e-01  2.29121359e-07 ...  6.50267084e-10\n",
      " -2.93895004e-09 -2.83216177e-09]\n"
     ]
    }
   ],
   "source": [
    "## We run the optimiser to get the transports between water masses and the T,S mixed and T,S adjustment\n",
    "result = MTM.optimise(tracers, volumes, constraints, transport, weights)\n",
    "\n",
    "g_ij = result['g_ij'] ## An [N x N] matrix of transports between WMs\n",
    "Mixing = result['Mixing'] ## An [M x N] matrix of dtracer mixing for each WM\n",
    "Adjustment = result['Adjustment'] ## An [M x N] matrix of dtracer adjustment for each WM"
   ]
  },
  {
   "cell_type": "code",
   "execution_count": null,
   "metadata": {},
   "outputs": [],
   "source": [
    "# if Opt_twice:\n",
    "#     '''constraint = [G@Q = V2*C2 - G@C2]\n",
    "#         cost = cp.sum_squares( Q * volume/area )\n",
    "\n",
    "#         where C1 is the initial and C2 is the final tracer concentrations.'''\n",
    "#     result = MTM.optimise(tracers, volumes, constraints, weights)\n",
    "\n",
    "#     g_ij = result['g_ij'] ## An [N x N] matrix of transports between WMs\n",
    "#     Mixing = result['Mixing'] ## An [M x N] matrix of dtracer mixing for each WM\n",
    "#     Adjustment = result['Adjustment'] ## An [M x N] matrix of dtracer adjustment for each WM"
   ]
  },
  {
   "cell_type": "code",
   "execution_count": null,
   "metadata": {},
   "outputs": [],
   "source": [
    "## Break down the Mixing and Adjustment matrices into their constituent tracers\n",
    "dT_mixing = Mixing[1,:]\n",
    "dS_mixing = Mixing[0,:]\n",
    "dS_adj = Adjustment[0,:]\n",
    "dT_adj = Adjustment[1,:]"
   ]
  },
  {
   "cell_type": "markdown",
   "metadata": {},
   "source": [
    "----------\n",
    "## E) Save Output "
   ]
  },
  {
   "cell_type": "code",
   "execution_count": null,
   "metadata": {},
   "outputs": [],
   "source": [
    "da_dT_mixing = xr.DataArray(data = dT_mixing, dims = [\"WM_number\"],\n",
    "                           coords=dict(WM_number = np.arange(0,N)),\n",
    "                        attrs=dict(description=\"Temperature Mixing\", units=\"\\Delta K\", variable_id=\"EN4 Tmix\"))\n",
    "da_dS_mixing = xr.DataArray(data = dS_mixing, dims = [\"WM_number\"],\n",
    "                           coords=dict(WM_number = np.arange(0,N)),\n",
    "                        attrs=dict(description=\"Salinity Mixing\", units=\"\\Delta g/kg\", variable_id=\"EN4 Smix\"))\n",
    "da_dT_adjustment = xr.DataArray(data = dT_adj, dims = [\"WM_number\"],\n",
    "                           coords=dict(WM_number = np.arange(0,N)),\n",
    "                        attrs=dict(description=\"Temperature Adjustment\", units=\"\\Delta K\", variable_id=\"EN4 Tadj\"))\n",
    "da_dS_adjustment = xr.DataArray(data = dS_adj, dims = [\"WM_number\"],\n",
    "                           coords=dict(WM_number = np.arange(0,N)),\n",
    "                        attrs=dict(description=\"Salinity Adjustment\", units=\"\\Delta g/kg\", variable_id=\"EN4 Sadj\"))\n",
    "da_gij = xr.DataArray(data = g_ij*volnorming, dims = [\"WM_initial\", \"WM_final\"],\n",
    "                           coords=dict(WM_initial = np.arange(0,N), WM_final = np.arange(0,N)),\n",
    "                        attrs=dict(description=\"Volume transport\", units=\"m^3\", variable_id=\"EN4 Gij\"))\n",
    "\n",
    "## Create xarray DataSet that will hold all these DataArrays\n",
    "ds_BSP = xr.Dataset()\n",
    "ds_BSP['dT_mixing'] = da_dT_mixing\n",
    "ds_BSP['dS_mixing'] = da_dS_mixing\n",
    "ds_BSP['dT_adjustment'] = da_dT_adjustment\n",
    "ds_BSP['dS_adjustment'] = da_dS_adjustment\n",
    "ds_BSP['gij'] = da_gij\n",
    "\n",
    "if SF:\n",
    "   ds_BSP.to_netcdf('Optimisation_results/Optimal_result_ACCESS.nc', mode='w')\n"
   ]
  },
  {
   "cell_type": "code",
   "execution_count": null,
   "metadata": {},
   "outputs": [],
   "source": []
  }
 ],
 "metadata": {
  "interpreter": {
   "hash": "00ec6b5807eb4cae4bdd23e758d78199b5749ea4aa251c45b926838befc3bdc7"
  },
  "kernelspec": {
   "display_name": "Python 3.7.6 ('base')",
   "language": "python",
   "name": "python3"
  },
  "language_info": {
   "codemirror_mode": {
    "name": "ipython",
    "version": 3
   },
   "file_extension": ".py",
   "mimetype": "text/x-python",
   "name": "python",
   "nbconvert_exporter": "python",
   "pygments_lexer": "ipython3",
   "version": "3.7.6"
  }
 },
 "nbformat": 4,
 "nbformat_minor": 2
}
