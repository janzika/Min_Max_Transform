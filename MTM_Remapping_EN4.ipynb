{
 "cells": [
  {
   "cell_type": "code",
   "execution_count": 3,
   "metadata": {},
   "outputs": [],
   "source": [
    "## Required packages for calculations and plotting\n",
    "import xarray as xr\n",
    "import numpy as np\n",
    "import matplotlib.pyplot as plt\n",
    "from tqdm.notebook import tqdm"
   ]
  },
  {
   "cell_type": "code",
   "execution_count": 4,
   "metadata": {},
   "outputs": [],
   "source": [
    "# Thermal expansion, haline contraction and true scale factor\n",
    "alph = 1.7657*10**-4\n",
    "bet = 7.5544*10**-4\n",
    "\n",
    "volnorming = 10**15 #normalising coeffcients\n",
    "areanorming = 10**12 #normalising coeffcients\n",
    "ST_scale=bet/alph\n",
    "\n",
    "# Establish basic constants \n",
    "yr2sec = 365.25*24*60*60\n",
    "Cp=4000\n",
    "rho=1024\n",
    "S0=35\n",
    "\n",
    "if SF:\n",
    "    ## ERA5 begins in 1979 so we have to change our \"early\" and \"late\" periods\n",
    "    dyrs = 2014-1979+1\n",
    "    init_early = 1979\n",
    "    init_late = 1979\n",
    "    Early_period = (np.array([init_early,init_early+dyrs]) - init_early)*12\n",
    "    Late_period = (np.array([init_late,init_late+dyrs]) - init_early)*12\n",
    "    range_yrs = init_late-init_early+1\n",
    "else:\n",
    "    dyrs = 9\n",
    "    init_early = 1979\n",
    "    init_late = 2006\n",
    "    Early_period = (np.array([init_early,init_early+dyrs]) - init_early)*12\n",
    "    Late_period = (np.array([init_late,init_late+dyrs]) - init_early)*12\n",
    "    range_yrs = init_late-init_early+1"
   ]
  },
  {
   "cell_type": "code",
   "execution_count": 5,
   "metadata": {},
   "outputs": [],
   "source": [
    "## LOAD T and S data from a gridded observations (e.g., we use EN4 here)\n",
    "## For the purposes of the tutorial we only select the first 3 months of the data\n",
    "data = xr.open_mfdataset('~/UNSW_work/EN4_Data/EN_data/EN4_CT_SA_*')\n",
    "\n",
    "T = data.Cons_Temp.isel(time=slice(Early_period[0],Early_period[1])).mean('time', keepdims=True)\n",
    "SST = data.Cons_Temp.isel(time=slice(Early_period[0],Early_period[1])).mean('time', keepdims=True).isel(depth=0)\n",
    "S = data.Abs_Sal.isel(time=slice(Early_period[0],Early_period[1])).mean('time', keepdims=True)\n",
    "V = data.dVol.isel(time=slice(Early_period[0],Early_period[1])).mean('time')"
   ]
  },
  {
   "cell_type": "code",
   "execution_count": 16,
   "metadata": {},
   "outputs": [],
   "source": [
    "if SF:\n",
    "    EN4_mapped_masks = xr.open_mfdataset('Masks_processed/Masks_EN4_*.nc', combine='nested', concat_dim = 'time')\n",
    "    fuzz_combined = EN4_mapped_masks.fuzz.isel(time=slice(1,5)).sum('time')/4\n",
    "else:\n",
    "    EN4_mapped_masks = xr.open_mfdataset('Masks_processed/Masks_EN4_108*.nc')\n",
    "mask_EN4_xr = xr.open_mfdataset('Basin_mask/mask_EN4.nc')\n",
    "mask_EN4 = (mask_EN4_xr.__xarray_dataarray_variable__.values)\n",
    "\n",
    "EN4_BSP_data = xr.open_mfdataset('BSP_processed/BSP_EN4_TS_*.nc')\n",
    "Basins = EN4_BSP_data.Basin.values\n",
    "SA_early =  EN4_BSP_data.S_mean.isel(Time=slice(Early_period[0],Early_period[1])).mean('Time')"
   ]
  },
  {
   "cell_type": "code",
   "execution_count": 18,
   "metadata": {},
   "outputs": [],
   "source": [
    "if SF:\n",
    "    Opt_result = xr.open_mfdataset('Optimisation_results/Optimal_result_EN4_SF.nc')\n",
    "else:\n",
    "    Opt_result = xr.open_mfdataset('Optimisation_results/Optimal_result_EN4.nc')\n",
    "dT_mixing = Opt_result.dT_mixing.values.reshape(Basins.size,SA_early.shape[-1])\n",
    "dS_mixing = Opt_result.dS_mixing.values.reshape(Basins.size,SA_early.shape[-1])\n",
    "dS_adj = Opt_result.dS_adjustment.values.reshape(Basins.size,SA_early.shape[-1])\n",
    "dT_adj = Opt_result.dT_adjustment.values.reshape(Basins.size,SA_early.shape[-1])\n",
    "\n",
    "## Remove NaNs from the visualisation\n",
    "dT_mixing[np.isnan(dT_mixing)] = 0\n",
    "dS_mixing[np.isnan(dS_mixing)] = 0\n",
    "dS_adj[np.isnan(dS_adj)] = 0\n",
    "dT_adj[np.isnan(dT_adj)] = 0"
   ]
  },
  {
   "cell_type": "code",
   "execution_count": 33,
   "metadata": {},
   "outputs": [
    {
     "data": {
      "application/vnd.jupyter.widget-view+json": {
       "model_id": "d7e2df6833ab4b47844b0ab5b6ad5eb5",
       "version_major": 2,
       "version_minor": 0
      },
      "text/plain": [
       "  0%|          | 0/128 [00:00<?, ?it/s]"
      ]
     },
     "metadata": {},
     "output_type": "display_data"
    }
   ],
   "source": [
    "dT_mix_tot = 0\n",
    "dS_mix_tot = 0\n",
    "dT_adj_tot = 0\n",
    "dS_adj_tot = 0\n",
    "g_ij_tot = 0\n",
    "\n",
    "for i in tqdm(range(SA_early.shape[-1])):\n",
    "    tmp_dTmix = 0\n",
    "    tmp_dSmix = 0\n",
    "    tmp_dTadj = 0\n",
    "    tmp_dSadj = 0\n",
    "    tmp_gij = 0\n",
    "    for j in range(Basins.size):\n",
    "        if SF:\n",
    "            tmp = dT_mixing[j,i]*mask_EN4_xr.__xarray_dataarray_variable__[j,:,:,:]*fuzz_combined[i,:,:,:]\n",
    "            tmp_dTmix = tmp+tmp_dTmix\n",
    "            tmp = dS_mixing[j,i]*mask_EN4_xr.__xarray_dataarray_variable__[j,:,:,:]*fuzz_combined[i,:,:,:]\n",
    "            tmp_dSmix = tmp+tmp_dSmix\n",
    "            tmp = dT_adj[j,i]*mask_EN4_xr.__xarray_dataarray_variable__[j,:,:,:]*fuzz_combined[i,:,:,:]\n",
    "            tmp_dTadj = tmp+tmp_dTadj\n",
    "            tmp = dS_adj[j,i]*mask_EN4_xr.__xarray_dataarray_variable__[j,:,:,:]*fuzz_combined[i,:,:,:]\n",
    "            tmp_dSadj = tmp+tmp_dSadj\n",
    "            tmp = section_trans[j,i]*mask_EN4_xr.__xarray_dataarray_variable__[j,:,:,:]*fuzz_combined[i,:,:,:]\n",
    "            tmp_gij = tmp+tmp_gij\n",
    "        else:\n",
    "            tmp = dT_mixing[j,i]*mask_EN4_xr.__xarray_dataarray_variable__[j,:,:,:]*EN4_mapped_masks.fuzz[i,:,:,:]\n",
    "            tmp_dTmix = tmp+tmp_dTmix\n",
    "            tmp = dS_mixing[j,i]*mask_EN4_xr.__xarray_dataarray_variable__[j,:,:,:]*EN4_mapped_masks.fuzz[i,:,:,:]\n",
    "            tmp_dSmix = tmp+tmp_dSmix\n",
    "            tmp = dT_adj[j,i]*mask_EN4_xr.__xarray_dataarray_variable__[j,:,:,:]*EN4_mapped_masks.fuzz[i,:,:,:]\n",
    "            tmp_dTadj = tmp+tmp_dTadj\n",
    "            tmp = dS_adj[j,i]*mask_EN4_xr.__xarray_dataarray_variable__[j,:,:,:]*EN4_mapped_masks.fuzz[i,:,:,:]\n",
    "            tmp_dSadj = tmp+tmp_dSadj\n",
    "            tmp = section_trans[j,i]*mask_EN4_xr.__xarray_dataarray_variable__[j,:,:,:]*fuzz_combined[i,:,:,:]\n",
    "            tmp_gij = tmp+tmp_gij\n",
    "\n",
    "    dT_mix_tot = tmp_dTmix+dT_mix_tot\n",
    "    dS_mix_tot = tmp_dSmix+dS_mix_tot\n",
    "    dT_adj_tot = tmp_dTadj+dT_adj_tot\n",
    "    dS_adj_tot = tmp_dSadj+dS_adj_tot\n",
    "    g_ij_tot = tmp_gij+g_ij_tot"
   ]
  },
  {
   "cell_type": "code",
   "execution_count": 42,
   "metadata": {},
   "outputs": [],
   "source": [
    "if SF:\n",
    "    dT_mix_tot.to_netcdf('Remapped_props/dT_mix_Eulerian_SF.nc')\n",
    "    dS_mix_tot.to_netcdf('Remapped_props/dS_mix_Eulerian_SF.nc')\n",
    "    dT_adj_tot.to_netcdf('Remapped_props/dT_adj_Eulerian_SF.nc')\n",
    "    dS_adj_tot.to_netcdf('Remapped_props/dS_adj_Eulerian_SF.nc')\n",
    "    g_ij_tot.to_netcdf('Remapped_props/g_ij_Eulerian_SF.nc')\n",
    "else:\n",
    "    dT_mix_tot.to_netcdf('Remapped_props/dT_mix_Eulerian.nc')\n",
    "    dS_mix_tot.to_netcdf('Remapped_props/dS_mix_Eulerian.nc')\n",
    "    dT_adj_tot.to_netcdf('Remapped_props/dT_adj_Eulerian.nc')\n",
    "    dS_adj_tot.to_netcdf('Remapped_props/dS_adj_Eulerian.nc')\n",
    "    g_ij_tot.to_netcdf('Remapped_props/g_ij_Eulerian.nc')\n"
   ]
  }
 ],
 "metadata": {
  "interpreter": {
   "hash": "00ec6b5807eb4cae4bdd23e758d78199b5749ea4aa251c45b926838befc3bdc7"
  },
  "kernelspec": {
   "display_name": "Python 3.7.6 ('base')",
   "language": "python",
   "name": "python3"
  },
  "language_info": {
   "codemirror_mode": {
    "name": "ipython",
    "version": 3
   },
   "file_extension": ".py",
   "mimetype": "text/x-python",
   "name": "python",
   "nbconvert_exporter": "python",
   "pygments_lexer": "ipython3",
   "version": "3.7.6"
  },
  "orig_nbformat": 4
 },
 "nbformat": 4,
 "nbformat_minor": 2
}
