{
 "cells": [
  {
   "cell_type": "code",
   "execution_count": null,
   "metadata": {},
   "outputs": [],
   "source": [
    "fig, axs = plt.subplots(3,3, figsize=(15,15), facecolor='w', edgecolor='k')\n",
    "    fig.subplots_adjust(hspace = .2, wspace=0.2)\n",
    "    axs = axs.ravel() \n",
    "    cax = fig.add_axes([0.925, 0.12, 0.02, 0.23])\n",
    "\n",
    "    minv, maxv = 11,15\n",
    "    cmap = 'Blues'\n",
    "\n",
    "    for bx in range(Basins.size):\n",
    "        axs[bx].scatter(SAearly[bx,:],CTearly[bx,:], 10, np.log10(Vearly[bx,:]),cmap=cmap, vmin=minv, vmax=maxv, marker = '.')\n",
    "        axs[bx].set_xlim(32,39)\n",
    "        axs[bx].set_ylim(-3,32)\n",
    "        axs[bx].set_title(Basins[bx])\n",
    "        if bx==0 or bx==3 or bx==6:\n",
    "            axs[bx].set_ylabel('Temperature [$^{\\circ}C$]')\n",
    "        if bx==6 or bx==7 or bx==8:\n",
    "            axs[bx].set_xlabel('Salinity [$g/kg$]')\n",
    "            \n",
    "    m = plt.cm.ScalarMappable(cmap=cmap)\n",
    "    m.set_clim(minv, maxv)\n",
    "    cbar = fig.colorbar(m, cax=cax, orientation='vertical')\n",
    "    cbar.set_label('Time-mean Volume [$log_{10}(m^3)$]') \n",
    "    # plt.savefig('../../Figures/BSP_clustering_mean_volumes_Vbased.png', bbox_inches='tight', dpi=300)\n",
    "    plt.show()"
   ]
  },
  {
   "cell_type": "code",
   "execution_count": null,
   "metadata": {},
   "outputs": [],
   "source": []
  },
  {
   "cell_type": "code",
   "execution_count": null,
   "metadata": {},
   "outputs": [],
   "source": []
  },
  {
   "cell_type": "code",
   "execution_count": null,
   "metadata": {},
   "outputs": [],
   "source": []
  },
  {
   "cell_type": "code",
   "execution_count": null,
   "metadata": {},
   "outputs": [],
   "source": []
  }
 ],
 "metadata": {
  "interpreter": {
   "hash": "00ec6b5807eb4cae4bdd23e758d78199b5749ea4aa251c45b926838befc3bdc7"
  },
  "kernelspec": {
   "display_name": "Python 3.7.6 ('base')",
   "language": "python",
   "name": "python3"
  },
  "language_info": {
   "name": "python",
   "version": "3.7.6"
  },
  "orig_nbformat": 4
 },
 "nbformat": 4,
 "nbformat_minor": 2
}
